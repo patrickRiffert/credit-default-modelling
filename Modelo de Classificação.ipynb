{
 "cells": [
  {
   "cell_type": "code",
   "execution_count": 69,
   "metadata": {},
   "outputs": [],
   "source": [
    "# Pacotes básicos\n",
    "import pandas as pd\n",
    "import seaborn as sns\n",
    "import matplotlib.pyplot as plt\n",
    "import numpy as np\n",
    "import itertools\n",
    "\n",
    "# Pacotes para ML\n",
    "from sklearn.model_selection import train_test_split\n",
    "from sklearn.linear_model import LogisticRegression\n",
    "from sklearn import tree\n",
    "from sklearn.metrics import confusion_matrix, classification_report, accuracy_score, roc_auc_score, roc_curve\n",
    "from imblearn.over_sampling import SMOTE\n",
    "from sklearn.preprocessing import StandardScaler\n",
    "from sklearn.feature_selection import RFE\n",
    "from sklearn.ensemble import RandomForestClassifier\n",
    "\n",
    "%matplotlib inline\n",
    "sns.set_style('darkgrid')\n",
    "pd.set_option('max_columns',100)"
   ]
  },
  {
   "cell_type": "code",
   "execution_count": 70,
   "metadata": {},
   "outputs": [],
   "source": [
    "def plot_confusion_matrix(cm, classes,\n",
    "                          normalize=False,\n",
    "                          title='Confusion matrix',\n",
    "                          cmap=plt.cm.Blues):\n",
    "    if normalize:\n",
    "        cm = cm.astype('float') / cm.sum(axis=1)[:, np.newaxis]\n",
    "        \n",
    "    print(cm)\n",
    "    plt.imshow(cm, interpolation='nearest', cmap=cmap)\n",
    "    plt.title(title)\n",
    "    plt.colorbar()\n",
    "    tick_marks = np.arange(len(classes))\n",
    "    plt.xticks(tick_marks, classes)\n",
    "    plt.yticks(tick_marks, classes)\n",
    "\n",
    "    fmt = '.2f' if normalize else 'd'\n",
    "    thresh = cm.max() / 2.\n",
    "    for i, j in itertools.product(range(cm.shape[0]), range(cm.shape[1])):\n",
    "        plt.text(j, i, format(cm[i, j], fmt),\n",
    "                 horizontalalignment=\"center\",\n",
    "                 color=\"white\" if cm[i, j] > thresh else \"black\")\n",
    "    \n",
    "    plt.tight_layout()\n",
    "    plt.ylabel('Rótulo verdadeiro')\n",
    "    plt.xlabel('Predição')\n",
    "    plt.grid(None)"
   ]
  },
  {
   "cell_type": "markdown",
   "metadata": {},
   "source": [
    "# Os dados"
   ]
  },
  {
   "cell_type": "markdown",
   "metadata": {},
   "source": [
    "Dados de pessoa que solicitaram cartão de crédito em um banco chinês."
   ]
  },
  {
   "cell_type": "code",
   "execution_count": 71,
   "metadata": {},
   "outputs": [
    {
     "name": "stdout",
     "output_type": "stream",
     "text": [
      "Número de Observações:  36457\n"
     ]
    },
    {
     "data": {
      "text/html": [
       "<div>\n",
       "<style scoped>\n",
       "    .dataframe tbody tr th:only-of-type {\n",
       "        vertical-align: middle;\n",
       "    }\n",
       "\n",
       "    .dataframe tbody tr th {\n",
       "        vertical-align: top;\n",
       "    }\n",
       "\n",
       "    .dataframe thead th {\n",
       "        text-align: right;\n",
       "    }\n",
       "</style>\n",
       "<table border=\"1\" class=\"dataframe\">\n",
       "  <thead>\n",
       "    <tr style=\"text-align: right;\">\n",
       "      <th></th>\n",
       "      <th>SEXO</th>\n",
       "      <th>POSSUI_CARRO</th>\n",
       "      <th>POSSUI_IMOVEL</th>\n",
       "      <th>QTD_FILHOS</th>\n",
       "      <th>RENDA_ANUAL</th>\n",
       "      <th>TIPO_RENDA</th>\n",
       "      <th>ESCOLARIDADE</th>\n",
       "      <th>ESTADO_CIVIL</th>\n",
       "      <th>TIPO_MORADIA</th>\n",
       "      <th>DIAS_EMPREGADO</th>\n",
       "      <th>TAMANHO_FAMILIA</th>\n",
       "      <th>IDADE</th>\n",
       "      <th>ROTULO</th>\n",
       "    </tr>\n",
       "  </thead>\n",
       "  <tbody>\n",
       "    <tr>\n",
       "      <th>0</th>\n",
       "      <td>M</td>\n",
       "      <td>Sim</td>\n",
       "      <td>Sim</td>\n",
       "      <td>0</td>\n",
       "      <td>427500.0</td>\n",
       "      <td>Trabalho</td>\n",
       "      <td>Graduação completa</td>\n",
       "      <td>Casado no civil</td>\n",
       "      <td>Apartamento alugado</td>\n",
       "      <td>4542</td>\n",
       "      <td>2.0</td>\n",
       "      <td>33.0</td>\n",
       "      <td>BOM</td>\n",
       "    </tr>\n",
       "    <tr>\n",
       "      <th>1</th>\n",
       "      <td>M</td>\n",
       "      <td>Sim</td>\n",
       "      <td>Sim</td>\n",
       "      <td>0</td>\n",
       "      <td>427500.0</td>\n",
       "      <td>Trabalho</td>\n",
       "      <td>Graduação completa</td>\n",
       "      <td>Casado no civil</td>\n",
       "      <td>Apartamento alugado</td>\n",
       "      <td>4542</td>\n",
       "      <td>2.0</td>\n",
       "      <td>33.0</td>\n",
       "      <td>BOM</td>\n",
       "    </tr>\n",
       "    <tr>\n",
       "      <th>2</th>\n",
       "      <td>M</td>\n",
       "      <td>Sim</td>\n",
       "      <td>Sim</td>\n",
       "      <td>0</td>\n",
       "      <td>112500.0</td>\n",
       "      <td>Trabalho</td>\n",
       "      <td>Licenciatura</td>\n",
       "      <td>Casado</td>\n",
       "      <td>Casa / Apartamento</td>\n",
       "      <td>1134</td>\n",
       "      <td>2.0</td>\n",
       "      <td>59.0</td>\n",
       "      <td>BOM</td>\n",
       "    </tr>\n",
       "    <tr>\n",
       "      <th>3</th>\n",
       "      <td>F</td>\n",
       "      <td>Não</td>\n",
       "      <td>Sim</td>\n",
       "      <td>0</td>\n",
       "      <td>270000.0</td>\n",
       "      <td>Representate comercial</td>\n",
       "      <td>Licenciatura</td>\n",
       "      <td>Solteiro</td>\n",
       "      <td>Casa / Apartamento</td>\n",
       "      <td>3051</td>\n",
       "      <td>1.0</td>\n",
       "      <td>52.0</td>\n",
       "      <td>BOM</td>\n",
       "    </tr>\n",
       "    <tr>\n",
       "      <th>4</th>\n",
       "      <td>F</td>\n",
       "      <td>Não</td>\n",
       "      <td>Sim</td>\n",
       "      <td>0</td>\n",
       "      <td>270000.0</td>\n",
       "      <td>Representate comercial</td>\n",
       "      <td>Licenciatura</td>\n",
       "      <td>Solteiro</td>\n",
       "      <td>Casa / Apartamento</td>\n",
       "      <td>3051</td>\n",
       "      <td>1.0</td>\n",
       "      <td>52.0</td>\n",
       "      <td>BOM</td>\n",
       "    </tr>\n",
       "  </tbody>\n",
       "</table>\n",
       "</div>"
      ],
      "text/plain": [
       "  SEXO POSSUI_CARRO POSSUI_IMOVEL  QTD_FILHOS  RENDA_ANUAL  \\\n",
       "0    M          Sim           Sim           0     427500.0   \n",
       "1    M          Sim           Sim           0     427500.0   \n",
       "2    M          Sim           Sim           0     112500.0   \n",
       "3    F          Não           Sim           0     270000.0   \n",
       "4    F          Não           Sim           0     270000.0   \n",
       "\n",
       "               TIPO_RENDA        ESCOLARIDADE     ESTADO_CIVIL  \\\n",
       "0                Trabalho  Graduação completa  Casado no civil   \n",
       "1                Trabalho  Graduação completa  Casado no civil   \n",
       "2                Trabalho        Licenciatura           Casado   \n",
       "3  Representate comercial        Licenciatura         Solteiro   \n",
       "4  Representate comercial        Licenciatura         Solteiro   \n",
       "\n",
       "          TIPO_MORADIA  DIAS_EMPREGADO  TAMANHO_FAMILIA  IDADE ROTULO  \n",
       "0  Apartamento alugado            4542              2.0   33.0    BOM  \n",
       "1  Apartamento alugado            4542              2.0   33.0    BOM  \n",
       "2   Casa / Apartamento            1134              2.0   59.0    BOM  \n",
       "3   Casa / Apartamento            3051              1.0   52.0    BOM  \n",
       "4   Casa / Apartamento            3051              1.0   52.0    BOM  "
      ]
     },
     "execution_count": 71,
     "metadata": {},
     "output_type": "execute_result"
    }
   ],
   "source": [
    "dados = pd.read_csv('dados/base_ptbr2.csv')\n",
    "print('Número de Observações: ',dados.shape[0])\n",
    "dados.head(5)"
   ]
  },
  {
   "cell_type": "markdown",
   "metadata": {},
   "source": [
    "**Criação da Variável Resposta**  \n",
    "0 = MAU  \n",
    "1 = BOM"
   ]
  },
  {
   "cell_type": "code",
   "execution_count": 72,
   "metadata": {},
   "outputs": [],
   "source": [
    "dados['VR'] = dados.ROTULO.map({'BOM':1, 'MAU':0})"
   ]
  },
  {
   "cell_type": "markdown",
   "metadata": {},
   "source": [
    "### Quais problema queremos resolver?"
   ]
  },
  {
   "cell_type": "markdown",
   "metadata": {},
   "source": [
    "> - **Reduzir prejuízos gerados por clientes inadimplentes no pagamento dos produtos de crédito.**  \n",
    "> - **Quanto limite de crédito conceder para cada cliente, de forma personalizada?**"
   ]
  },
  {
   "cell_type": "markdown",
   "metadata": {},
   "source": [
    "**Valores nulos**"
   ]
  },
  {
   "cell_type": "code",
   "execution_count": 73,
   "metadata": {},
   "outputs": [
    {
     "name": "stdout",
     "output_type": "stream",
     "text": [
      "<class 'pandas.core.frame.DataFrame'>\n",
      "RangeIndex: 36457 entries, 0 to 36456\n",
      "Data columns (total 14 columns):\n",
      " #   Column           Non-Null Count  Dtype  \n",
      "---  ------           --------------  -----  \n",
      " 0   SEXO             36457 non-null  object \n",
      " 1   POSSUI_CARRO     36457 non-null  object \n",
      " 2   POSSUI_IMOVEL    36457 non-null  object \n",
      " 3   QTD_FILHOS       36457 non-null  int64  \n",
      " 4   RENDA_ANUAL      36457 non-null  float64\n",
      " 5   TIPO_RENDA       36457 non-null  object \n",
      " 6   ESCOLARIDADE     36457 non-null  object \n",
      " 7   ESTADO_CIVIL     36457 non-null  object \n",
      " 8   TIPO_MORADIA     36457 non-null  object \n",
      " 9   DIAS_EMPREGADO   36457 non-null  int64  \n",
      " 10  TAMANHO_FAMILIA  36457 non-null  float64\n",
      " 11  IDADE            36457 non-null  float64\n",
      " 12  ROTULO           36457 non-null  object \n",
      " 13  VR               36457 non-null  int64  \n",
      "dtypes: float64(3), int64(3), object(8)\n",
      "memory usage: 3.9+ MB\n"
     ]
    }
   ],
   "source": [
    "dados.info()"
   ]
  },
  {
   "cell_type": "markdown",
   "metadata": {},
   "source": [
    "# Análise Exploratória"
   ]
  },
  {
   "cell_type": "markdown",
   "metadata": {},
   "source": [
    "**Distribuição de BONS e MAUS na Base**"
   ]
  },
  {
   "cell_type": "code",
   "execution_count": 74,
   "metadata": {},
   "outputs": [
    {
     "data": {
      "text/plain": [
       "<matplotlib.axes._subplots.AxesSubplot at 0x1d6448fa588>"
      ]
     },
     "execution_count": 74,
     "metadata": {},
     "output_type": "execute_result"
    },
    {
     "data": {
      "image/png": "[encoded data removed]",
      "text/plain": [
       "<Figure size 432x288 with 1 Axes>"
      ]
     },
     "metadata": {},
     "output_type": "display_data"
    }
   ],
   "source": [
    "plt.suptitle('% de BONS e MAUS na base')\n",
    "dados.ROTULO.value_counts(normalize=True).plot.bar(color=['tab:green','tab:red'])"
   ]
  },
  {
   "cell_type": "markdown",
   "metadata": {},
   "source": [
    "Temos poucos MAUS na base então será necessário fazer uma superamostragem na base para dar mais insumo ao modelo."
   ]
  },
  {
   "cell_type": "code",
   "execution_count": 75,
   "metadata": {},
   "outputs": [],
   "source": [
    "# Limpeza\n",
    "dados.loc[dados.DIAS_EMPREGADO<0, 'DIAS_EMPREGADO'] = 0"
   ]
  },
  {
   "cell_type": "markdown",
   "metadata": {},
   "source": [
    "## Análise Univariada"
   ]
  },
  {
   "cell_type": "markdown",
   "metadata": {},
   "source": [
    "### Distribuições"
   ]
  },
  {
   "cell_type": "code",
   "execution_count": 76,
   "metadata": {},
   "outputs": [
    {
     "data": {
      "image/png": "[encoded data removed]",
      "text/plain": [
       "<Figure size 1080x576 with 5 Axes>"
      ]
     },
     "metadata": {},
     "output_type": "display_data"
    }
   ],
   "source": [
    "fig, ax = plt.subplots(5,1, figsize=(15,8))\n",
    "sns.distplot(ax=ax[0], a=dados.RENDA_ANUAL, kde=False)\n",
    "sns.distplot(ax=ax[1], a=dados.IDADE, kde=False)\n",
    "sns.distplot(ax=ax[2], a=dados.DIAS_EMPREGADO, kde=False)\n",
    "sns.distplot(ax=ax[3], a=dados.QTD_FILHOS, kde=False)\n",
    "sns.distplot(ax=ax[4], a=dados.TAMANHO_FAMILIA, kde=False)\n",
    "ax[0].set(title='Renda anual', xlabel='')\n",
    "ax[1].set(title='Idade (dias)', xlabel='')\n",
    "ax[2].set(title='Tempo empregado (dias)', xlabel='')\n",
    "ax[3].set(title='Qtd. Filhos', xlabel='')\n",
    "ax[4].set(title='Tamanho da família', xlabel='')\n",
    "plt.tight_layout()"
   ]
  },
  {
   "cell_type": "markdown",
   "metadata": {},
   "source": [
    "### Distribuição em relação a Variável Resposta"
   ]
  },
  {
   "cell_type": "code",
   "execution_count": 77,
   "metadata": {},
   "outputs": [
    {
     "data": {
      "text/plain": [
       "[Text(0.5, 0, ''), Text(0.5, 1.0, 'Tamanho da família')]"
      ]
     },
     "execution_count": 77,
     "metadata": {},
     "output_type": "execute_result"
    },
    {
     "data": {
      "image/png": "[encoded data removed]",
      "text/plain": [
       "<Figure size 1008x720 with 4 Axes>"
      ]
     },
     "metadata": {},
     "output_type": "display_data"
    }
   ],
   "source": [
    "fig, ax = plt.subplots(2,2, figsize=(14,10))\n",
    "fig.suptitle('Distribuição por Rótulo', size=20)\n",
    "sns.boxplot(ax=ax[0,0], y=dados.RENDA_ANUAL, x=dados.ROTULO, palette=sns.color_palette(['#55a630','#ee6055']), width=0.4)\n",
    "sns.boxplot(ax=ax[0,1], y=dados.IDADE, x=dados.ROTULO, palette=sns.color_palette(['#55a630','#ee6055']), width=0.4)\n",
    "sns.boxplot(ax=ax[1,0], y=dados.DIAS_EMPREGADO, x=dados.ROTULO, palette=sns.color_palette(['#55a630','#ee6055']), width=0.4)\n",
    "sns.boxplot(ax=ax[1,1], y=dados.TAMANHO_FAMILIA, x=dados.ROTULO, palette=sns.color_palette(['#55a630','#ee6055']), width=0.4)\n",
    "ax[0,0].set(title='Renda anual', xlabel='')\n",
    "ax[0,1].set(title='Idade', xlabel='')\n",
    "ax[1,0].set(title='Tempo empregado (dias)', xlabel='')\n",
    "ax[1,1].set(title='Tamanho da família', xlabel='')"
   ]
  },
  {
   "cell_type": "code",
   "execution_count": 78,
   "metadata": {},
   "outputs": [
    {
     "data": {
      "text/plain": [
       "<matplotlib.axes._subplots.AxesSubplot at 0x1d646e21f08>"
      ]
     },
     "execution_count": 78,
     "metadata": {},
     "output_type": "execute_result"
    },
    {
     "data": {
      "image/png": "[encoded data removed]",
      "text/plain": [
       "<Figure size 1440x288 with 4 Axes>"
      ]
     },
     "metadata": {},
     "output_type": "display_data"
    }
   ],
   "source": [
    "fig, ax = plt.subplots(1,4, figsize=(20,4))\n",
    "sns.distplot(ax=ax[0], a=dados.loc[dados.ROTULO=='BOM','RENDA_ANUAL'], bins=20, label='BOM', color='#70e000')\n",
    "sns.distplot(ax=ax[0], a=dados.loc[dados.ROTULO=='MAU','RENDA_ANUAL'], bins=20, label='MAU', color='#ee6055')\n",
    "\n",
    "sns.distplot(ax=ax[1], a=dados.loc[dados.ROTULO=='BOM','IDADE'], bins=20, label='BOM', color='#70e000')\n",
    "sns.distplot(ax=ax[1], a=dados.loc[dados.ROTULO=='MAU','IDADE'], bins=20, label='MAU', color='#ee6055')\n",
    "\n",
    "sns.distplot(ax=ax[2], a=dados.loc[dados.ROTULO=='BOM','DIAS_EMPREGADO'], bins=20, label='BOM', color='#70e000')\n",
    "sns.distplot(ax=ax[2], a=dados.loc[dados.ROTULO=='MAU','DIAS_EMPREGADO'], bins=20, label='MAU', color='#ee6055')\n",
    "\n",
    "sns.distplot(ax=ax[3], a=dados.loc[dados.ROTULO=='BOM','QTD_FILHOS'], bins=20, label='BOM', color='#70e000')\n",
    "sns.distplot(ax=ax[3], a=dados.loc[dados.ROTULO=='MAU','QTD_FILHOS'], bins=20, label='MAU', color='#ee6055')"
   ]
  },
  {
   "cell_type": "markdown",
   "metadata": {},
   "source": [
    "## Variáveis categóricas"
   ]
  },
  {
   "cell_type": "code",
   "execution_count": 79,
   "metadata": {},
   "outputs": [
    {
     "data": {
      "text/plain": [
       "<matplotlib.axes._subplots.AxesSubplot at 0x1d6420bb688>"
      ]
     },
     "execution_count": 79,
     "metadata": {},
     "output_type": "execute_result"
    },
    {
     "data": {
      "image/png": "[encoded data removed]",
      "text/plain": [
       "<Figure size 1440x1440 with 8 Axes>"
      ]
     },
     "metadata": {},
     "output_type": "display_data"
    }
   ],
   "source": [
    "sns.set_palette('rocket')\n",
    "fig, ax = plt.subplots(4,2, figsize=(20,20))\n",
    "\n",
    "sns.countplot(ax=ax[0,0], y=dados['SEXO'])\n",
    "sns.countplot(ax=ax[0,1], y=dados['POSSUI_CARRO'])\n",
    "sns.countplot(ax=ax[1,0], y=dados['POSSUI_IMOVEL'])\n",
    "sns.countplot(ax=ax[1,1], y=dados['TIPO_RENDA'])\n",
    "sns.countplot(ax=ax[2,0], y=dados['ESCOLARIDADE'])\n",
    "sns.countplot(ax=ax[2,1], y=dados['ESTADO_CIVIL'])\n",
    "sns.countplot(ax=ax[3,0], y=dados['TIPO_MORADIA'])\n",
    "sns.countplot(ax=ax[3,1], y=dados['QTD_FILHOS'])"
   ]
  },
  {
   "cell_type": "code",
   "execution_count": 80,
   "metadata": {},
   "outputs": [
    {
     "data": {
      "text/plain": [
       "<matplotlib.axes._subplots.AxesSubplot at 0x1d646234dc8>"
      ]
     },
     "execution_count": 80,
     "metadata": {},
     "output_type": "execute_result"
    },
    {
     "data": {
      "image/png": "[encoded data removed]",
      "text/plain": [
       "<Figure size 576x576 with 2 Axes>"
      ]
     },
     "metadata": {},
     "output_type": "display_data"
    }
   ],
   "source": [
    "plt.figure(figsize=(8,8))\n",
    "sns.heatmap(data=dados[['QTD_FILHOS','RENDA_ANUAL','IDADE','DIAS_EMPREGADO','TAMANHO_FAMILIA']].corr(), annot=True, cmap='BuGn')"
   ]
  },
  {
   "cell_type": "code",
   "execution_count": 81,
   "metadata": {},
   "outputs": [],
   "source": [
    "# Criando cópia da base original\n",
    "df_treino = dados.drop('ROTULO', axis=1).copy()"
   ]
  },
  {
   "cell_type": "markdown",
   "metadata": {},
   "source": [
    "# Peso da Evidência & Information Value (WoE & IV)"
   ]
  },
  {
   "cell_type": "markdown",
   "metadata": {},
   "source": [
    "![Tabela IV](Imagens/tb_referencia_iv.png)"
   ]
  },
  {
   "cell_type": "code",
   "execution_count": 82,
   "metadata": {},
   "outputs": [],
   "source": [
    "#Funçao para cálculo de WoE e IV\n",
    "def woe_iv(dados, variavel, variavel_resposta):\n",
    "    df_woe = pd.crosstab(index=dados[variavel], columns=dados[variavel_resposta])\n",
    "    df_woe['Total'] = df_woe[0] + df_woe[1]\n",
    "    df_woe['% Bom'] = df_woe[1] / df_woe[1].sum()\n",
    "    df_woe['% Mau'] = df_woe[0]/ df_woe[0].sum()\n",
    "    df_woe['WoE'] = np.log(df_woe['% Bom'] / df_woe['% Mau'])\n",
    "    df_woe['IV'] = (df_woe['% Bom'] - df_woe['% Mau']) * df_woe['WoE']\n",
    "    df_woe = df_woe.rename(columns={0:'Maus', 1:'Bons'})\n",
    "    print('IV: ', df_woe.loc[df_woe.WoE!=np.inf, 'IV'].sum())\n",
    "    display(df_woe.sort_index())\n",
    "    # return df_woe, df_woe['IV'].sum() "
   ]
  },
  {
   "cell_type": "markdown",
   "metadata": {},
   "source": [
    "**SEXO**"
   ]
  },
  {
   "cell_type": "code",
   "execution_count": 83,
   "metadata": {},
   "outputs": [
    {
     "name": "stdout",
     "output_type": "stream",
     "text": [
      "IV:  0.013581371667358226\n"
     ]
    },
    {
     "data": {
      "text/html": [
       "<div>\n",
       "<style scoped>\n",
       "    .dataframe tbody tr th:only-of-type {\n",
       "        vertical-align: middle;\n",
       "    }\n",
       "\n",
       "    .dataframe tbody tr th {\n",
       "        vertical-align: top;\n",
       "    }\n",
       "\n",
       "    .dataframe thead th {\n",
       "        text-align: right;\n",
       "    }\n",
       "</style>\n",
       "<table border=\"1\" class=\"dataframe\">\n",
       "  <thead>\n",
       "    <tr style=\"text-align: right;\">\n",
       "      <th>VR</th>\n",
       "      <th>Maus</th>\n",
       "      <th>Bons</th>\n",
       "      <th>Total</th>\n",
       "      <th>% Bom</th>\n",
       "      <th>% Mau</th>\n",
       "      <th>WoE</th>\n",
       "      <th>IV</th>\n",
       "    </tr>\n",
       "    <tr>\n",
       "      <th>SEXO</th>\n",
       "      <th></th>\n",
       "      <th></th>\n",
       "      <th></th>\n",
       "      <th></th>\n",
       "      <th></th>\n",
       "      <th></th>\n",
       "      <th></th>\n",
       "    </tr>\n",
       "  </thead>\n",
       "  <tbody>\n",
       "    <tr>\n",
       "      <th>F</th>\n",
       "      <td>379</td>\n",
       "      <td>24051</td>\n",
       "      <td>24430</td>\n",
       "      <td>0.671047</td>\n",
       "      <td>0.61526</td>\n",
       "      <td>0.086795</td>\n",
       "      <td>0.004842</td>\n",
       "    </tr>\n",
       "    <tr>\n",
       "      <th>M</th>\n",
       "      <td>237</td>\n",
       "      <td>11790</td>\n",
       "      <td>12027</td>\n",
       "      <td>0.328953</td>\n",
       "      <td>0.38474</td>\n",
       "      <td>-0.156654</td>\n",
       "      <td>0.008739</td>\n",
       "    </tr>\n",
       "  </tbody>\n",
       "</table>\n",
       "</div>"
      ],
      "text/plain": [
       "VR    Maus   Bons  Total     % Bom    % Mau       WoE        IV\n",
       "SEXO                                                           \n",
       "F      379  24051  24430  0.671047  0.61526  0.086795  0.004842\n",
       "M      237  11790  12027  0.328953  0.38474 -0.156654  0.008739"
      ]
     },
     "metadata": {},
     "output_type": "display_data"
    }
   ],
   "source": [
    "woe_iv(df_treino, 'SEXO', 'VR')"
   ]
  },
  {
   "cell_type": "markdown",
   "metadata": {},
   "source": [
    "<img src=\"Imagens/dislike.png\" width=60ox>"
   ]
  },
  {
   "cell_type": "markdown",
   "metadata": {},
   "source": [
    "**POSSUI_CARRO**"
   ]
  },
  {
   "cell_type": "code",
   "execution_count": 84,
   "metadata": {},
   "outputs": [
    {
     "name": "stdout",
     "output_type": "stream",
     "text": [
      "IV:  0.0011443033795676962\n"
     ]
    },
    {
     "data": {
      "text/html": [
       "<div>\n",
       "<style scoped>\n",
       "    .dataframe tbody tr th:only-of-type {\n",
       "        vertical-align: middle;\n",
       "    }\n",
       "\n",
       "    .dataframe tbody tr th {\n",
       "        vertical-align: top;\n",
       "    }\n",
       "\n",
       "    .dataframe thead th {\n",
       "        text-align: right;\n",
       "    }\n",
       "</style>\n",
       "<table border=\"1\" class=\"dataframe\">\n",
       "  <thead>\n",
       "    <tr style=\"text-align: right;\">\n",
       "      <th>VR</th>\n",
       "      <th>Maus</th>\n",
       "      <th>Bons</th>\n",
       "      <th>Total</th>\n",
       "      <th>% Bom</th>\n",
       "      <th>% Mau</th>\n",
       "      <th>WoE</th>\n",
       "      <th>IV</th>\n",
       "    </tr>\n",
       "    <tr>\n",
       "      <th>POSSUI_CARRO</th>\n",
       "      <th></th>\n",
       "      <th></th>\n",
       "      <th></th>\n",
       "      <th></th>\n",
       "      <th></th>\n",
       "      <th></th>\n",
       "      <th></th>\n",
       "    </tr>\n",
       "  </thead>\n",
       "  <tbody>\n",
       "    <tr>\n",
       "      <th>Não</th>\n",
       "      <td>392</td>\n",
       "      <td>22222</td>\n",
       "      <td>22614</td>\n",
       "      <td>0.620016</td>\n",
       "      <td>0.636364</td>\n",
       "      <td>-0.026025</td>\n",
       "      <td>0.000425</td>\n",
       "    </tr>\n",
       "    <tr>\n",
       "      <th>Sim</th>\n",
       "      <td>224</td>\n",
       "      <td>13619</td>\n",
       "      <td>13843</td>\n",
       "      <td>0.379984</td>\n",
       "      <td>0.363636</td>\n",
       "      <td>0.043974</td>\n",
       "      <td>0.000719</td>\n",
       "    </tr>\n",
       "  </tbody>\n",
       "</table>\n",
       "</div>"
      ],
      "text/plain": [
       "VR            Maus   Bons  Total     % Bom     % Mau       WoE        IV\n",
       "POSSUI_CARRO                                                            \n",
       "Não            392  22222  22614  0.620016  0.636364 -0.026025  0.000425\n",
       "Sim            224  13619  13843  0.379984  0.363636  0.043974  0.000719"
      ]
     },
     "metadata": {},
     "output_type": "display_data"
    }
   ],
   "source": [
    "woe_iv(df_treino, 'POSSUI_CARRO', 'VR')"
   ]
  },
  {
   "cell_type": "markdown",
   "metadata": {},
   "source": [
    "<img src=\"Imagens/dislike.png\" width=60ox>"
   ]
  },
  {
   "cell_type": "markdown",
   "metadata": {},
   "source": [
    "**POSSUI_IMOVEL**"
   ]
  },
  {
   "cell_type": "code",
   "execution_count": 85,
   "metadata": {},
   "outputs": [
    {
     "name": "stdout",
     "output_type": "stream",
     "text": [
      "IV:  0.028349157710111452\n"
     ]
    },
    {
     "data": {
      "text/html": [
       "<div>\n",
       "<style scoped>\n",
       "    .dataframe tbody tr th:only-of-type {\n",
       "        vertical-align: middle;\n",
       "    }\n",
       "\n",
       "    .dataframe tbody tr th {\n",
       "        vertical-align: top;\n",
       "    }\n",
       "\n",
       "    .dataframe thead th {\n",
       "        text-align: right;\n",
       "    }\n",
       "</style>\n",
       "<table border=\"1\" class=\"dataframe\">\n",
       "  <thead>\n",
       "    <tr style=\"text-align: right;\">\n",
       "      <th>VR</th>\n",
       "      <th>Maus</th>\n",
       "      <th>Bons</th>\n",
       "      <th>Total</th>\n",
       "      <th>% Bom</th>\n",
       "      <th>% Mau</th>\n",
       "      <th>WoE</th>\n",
       "      <th>IV</th>\n",
       "    </tr>\n",
       "    <tr>\n",
       "      <th>POSSUI_IMOVEL</th>\n",
       "      <th></th>\n",
       "      <th></th>\n",
       "      <th></th>\n",
       "      <th></th>\n",
       "      <th></th>\n",
       "      <th></th>\n",
       "      <th></th>\n",
       "    </tr>\n",
       "  </thead>\n",
       "  <tbody>\n",
       "    <tr>\n",
       "      <th>Não</th>\n",
       "      <td>251</td>\n",
       "      <td>11700</td>\n",
       "      <td>11951</td>\n",
       "      <td>0.326442</td>\n",
       "      <td>0.407468</td>\n",
       "      <td>-0.221710</td>\n",
       "      <td>0.017964</td>\n",
       "    </tr>\n",
       "    <tr>\n",
       "      <th>Sim</th>\n",
       "      <td>365</td>\n",
       "      <td>24141</td>\n",
       "      <td>24506</td>\n",
       "      <td>0.673558</td>\n",
       "      <td>0.592532</td>\n",
       "      <td>0.128169</td>\n",
       "      <td>0.010385</td>\n",
       "    </tr>\n",
       "  </tbody>\n",
       "</table>\n",
       "</div>"
      ],
      "text/plain": [
       "VR             Maus   Bons  Total     % Bom     % Mau       WoE        IV\n",
       "POSSUI_IMOVEL                                                            \n",
       "Não             251  11700  11951  0.326442  0.407468 -0.221710  0.017964\n",
       "Sim             365  24141  24506  0.673558  0.592532  0.128169  0.010385"
      ]
     },
     "metadata": {},
     "output_type": "display_data"
    }
   ],
   "source": [
    "woe_iv(df_treino, 'POSSUI_IMOVEL', 'VR')"
   ]
  },
  {
   "cell_type": "markdown",
   "metadata": {},
   "source": [
    "<img src=\"Imagens/good.png\" width=60ox>"
   ]
  },
  {
   "cell_type": "markdown",
   "metadata": {},
   "source": [
    "**QTD_FILHOS**"
   ]
  },
  {
   "cell_type": "code",
   "execution_count": 86,
   "metadata": {},
   "outputs": [
    {
     "name": "stdout",
     "output_type": "stream",
     "text": [
      "IV:  0.005373999418640605\n"
     ]
    },
    {
     "data": {
      "text/html": [
       "<div>\n",
       "<style scoped>\n",
       "    .dataframe tbody tr th:only-of-type {\n",
       "        vertical-align: middle;\n",
       "    }\n",
       "\n",
       "    .dataframe tbody tr th {\n",
       "        vertical-align: top;\n",
       "    }\n",
       "\n",
       "    .dataframe thead th {\n",
       "        text-align: right;\n",
       "    }\n",
       "</style>\n",
       "<table border=\"1\" class=\"dataframe\">\n",
       "  <thead>\n",
       "    <tr style=\"text-align: right;\">\n",
       "      <th>VR</th>\n",
       "      <th>Maus</th>\n",
       "      <th>Bons</th>\n",
       "      <th>Total</th>\n",
       "      <th>% Bom</th>\n",
       "      <th>% Mau</th>\n",
       "      <th>WoE</th>\n",
       "      <th>IV</th>\n",
       "    </tr>\n",
       "    <tr>\n",
       "      <th>QTD_FILHOS</th>\n",
       "      <th></th>\n",
       "      <th></th>\n",
       "      <th></th>\n",
       "      <th></th>\n",
       "      <th></th>\n",
       "      <th></th>\n",
       "      <th></th>\n",
       "    </tr>\n",
       "  </thead>\n",
       "  <tbody>\n",
       "    <tr>\n",
       "      <th>0</th>\n",
       "      <td>431</td>\n",
       "      <td>24770</td>\n",
       "      <td>25201</td>\n",
       "      <td>0.691108</td>\n",
       "      <td>0.699675</td>\n",
       "      <td>-0.012320</td>\n",
       "      <td>0.000106</td>\n",
       "    </tr>\n",
       "    <tr>\n",
       "      <th>1</th>\n",
       "      <td>120</td>\n",
       "      <td>7372</td>\n",
       "      <td>7492</td>\n",
       "      <td>0.205686</td>\n",
       "      <td>0.194805</td>\n",
       "      <td>0.054352</td>\n",
       "      <td>0.000591</td>\n",
       "    </tr>\n",
       "    <tr>\n",
       "      <th>2</th>\n",
       "      <td>52</td>\n",
       "      <td>3204</td>\n",
       "      <td>3256</td>\n",
       "      <td>0.089395</td>\n",
       "      <td>0.084416</td>\n",
       "      <td>0.057311</td>\n",
       "      <td>0.000285</td>\n",
       "    </tr>\n",
       "    <tr>\n",
       "      <th>3</th>\n",
       "      <td>12</td>\n",
       "      <td>407</td>\n",
       "      <td>419</td>\n",
       "      <td>0.011356</td>\n",
       "      <td>0.019481</td>\n",
       "      <td>-0.539694</td>\n",
       "      <td>0.004385</td>\n",
       "    </tr>\n",
       "    <tr>\n",
       "      <th>4</th>\n",
       "      <td>1</td>\n",
       "      <td>62</td>\n",
       "      <td>63</td>\n",
       "      <td>0.001730</td>\n",
       "      <td>0.001623</td>\n",
       "      <td>0.063534</td>\n",
       "      <td>0.000007</td>\n",
       "    </tr>\n",
       "    <tr>\n",
       "      <th>5</th>\n",
       "      <td>0</td>\n",
       "      <td>20</td>\n",
       "      <td>20</td>\n",
       "      <td>0.000558</td>\n",
       "      <td>0.000000</td>\n",
       "      <td>inf</td>\n",
       "      <td>inf</td>\n",
       "    </tr>\n",
       "    <tr>\n",
       "      <th>7</th>\n",
       "      <td>0</td>\n",
       "      <td>2</td>\n",
       "      <td>2</td>\n",
       "      <td>0.000056</td>\n",
       "      <td>0.000000</td>\n",
       "      <td>inf</td>\n",
       "      <td>inf</td>\n",
       "    </tr>\n",
       "    <tr>\n",
       "      <th>14</th>\n",
       "      <td>0</td>\n",
       "      <td>3</td>\n",
       "      <td>3</td>\n",
       "      <td>0.000084</td>\n",
       "      <td>0.000000</td>\n",
       "      <td>inf</td>\n",
       "      <td>inf</td>\n",
       "    </tr>\n",
       "    <tr>\n",
       "      <th>19</th>\n",
       "      <td>0</td>\n",
       "      <td>1</td>\n",
       "      <td>1</td>\n",
       "      <td>0.000028</td>\n",
       "      <td>0.000000</td>\n",
       "      <td>inf</td>\n",
       "      <td>inf</td>\n",
       "    </tr>\n",
       "  </tbody>\n",
       "</table>\n",
       "</div>"
      ],
      "text/plain": [
       "VR          Maus   Bons  Total     % Bom     % Mau       WoE        IV\n",
       "QTD_FILHOS                                                            \n",
       "0            431  24770  25201  0.691108  0.699675 -0.012320  0.000106\n",
       "1            120   7372   7492  0.205686  0.194805  0.054352  0.000591\n",
       "2             52   3204   3256  0.089395  0.084416  0.057311  0.000285\n",
       "3             12    407    419  0.011356  0.019481 -0.539694  0.004385\n",
       "4              1     62     63  0.001730  0.001623  0.063534  0.000007\n",
       "5              0     20     20  0.000558  0.000000       inf       inf\n",
       "7              0      2      2  0.000056  0.000000       inf       inf\n",
       "14             0      3      3  0.000084  0.000000       inf       inf\n",
       "19             0      1      1  0.000028  0.000000       inf       inf"
      ]
     },
     "metadata": {},
     "output_type": "display_data"
    }
   ],
   "source": [
    "woe_iv(df_treino, 'QTD_FILHOS', 'VR')"
   ]
  },
  {
   "cell_type": "markdown",
   "metadata": {},
   "source": [
    "<img src=\"Imagens/dislike.png\" width=60ox>"
   ]
  },
  {
   "cell_type": "markdown",
   "metadata": {},
   "source": [
    "**TAMANHO_FAMILIA**"
   ]
  },
  {
   "cell_type": "code",
   "execution_count": 87,
   "metadata": {},
   "outputs": [
    {
     "name": "stdout",
     "output_type": "stream",
     "text": [
      "IV:  0.013897094218452762\n"
     ]
    },
    {
     "data": {
      "text/html": [
       "<div>\n",
       "<style scoped>\n",
       "    .dataframe tbody tr th:only-of-type {\n",
       "        vertical-align: middle;\n",
       "    }\n",
       "\n",
       "    .dataframe tbody tr th {\n",
       "        vertical-align: top;\n",
       "    }\n",
       "\n",
       "    .dataframe thead th {\n",
       "        text-align: right;\n",
       "    }\n",
       "</style>\n",
       "<table border=\"1\" class=\"dataframe\">\n",
       "  <thead>\n",
       "    <tr style=\"text-align: right;\">\n",
       "      <th>VR</th>\n",
       "      <th>Maus</th>\n",
       "      <th>Bons</th>\n",
       "      <th>Total</th>\n",
       "      <th>% Bom</th>\n",
       "      <th>% Mau</th>\n",
       "      <th>WoE</th>\n",
       "      <th>IV</th>\n",
       "    </tr>\n",
       "    <tr>\n",
       "      <th>TAMANHO_FAMILIA</th>\n",
       "      <th></th>\n",
       "      <th></th>\n",
       "      <th></th>\n",
       "      <th></th>\n",
       "      <th></th>\n",
       "      <th></th>\n",
       "      <th></th>\n",
       "    </tr>\n",
       "  </thead>\n",
       "  <tbody>\n",
       "    <tr>\n",
       "      <th>1.0</th>\n",
       "      <td>139</td>\n",
       "      <td>6848</td>\n",
       "      <td>6987</td>\n",
       "      <td>0.191066</td>\n",
       "      <td>0.225649</td>\n",
       "      <td>-0.166363</td>\n",
       "      <td>5.753368e-03</td>\n",
       "    </tr>\n",
       "    <tr>\n",
       "      <th>2.0</th>\n",
       "      <td>313</td>\n",
       "      <td>19150</td>\n",
       "      <td>19463</td>\n",
       "      <td>0.534304</td>\n",
       "      <td>0.508117</td>\n",
       "      <td>0.050254</td>\n",
       "      <td>1.316022e-03</td>\n",
       "    </tr>\n",
       "    <tr>\n",
       "      <th>3.0</th>\n",
       "      <td>105</td>\n",
       "      <td>6316</td>\n",
       "      <td>6421</td>\n",
       "      <td>0.176223</td>\n",
       "      <td>0.170455</td>\n",
       "      <td>0.033280</td>\n",
       "      <td>1.919675e-04</td>\n",
       "    </tr>\n",
       "    <tr>\n",
       "      <th>4.0</th>\n",
       "      <td>46</td>\n",
       "      <td>3060</td>\n",
       "      <td>3106</td>\n",
       "      <td>0.085377</td>\n",
       "      <td>0.074675</td>\n",
       "      <td>0.133928</td>\n",
       "      <td>1.433265e-03</td>\n",
       "    </tr>\n",
       "    <tr>\n",
       "      <th>5.0</th>\n",
       "      <td>12</td>\n",
       "      <td>385</td>\n",
       "      <td>397</td>\n",
       "      <td>0.010742</td>\n",
       "      <td>0.019481</td>\n",
       "      <td>-0.595264</td>\n",
       "      <td>5.201794e-03</td>\n",
       "    </tr>\n",
       "    <tr>\n",
       "      <th>6.0</th>\n",
       "      <td>1</td>\n",
       "      <td>57</td>\n",
       "      <td>58</td>\n",
       "      <td>0.001590</td>\n",
       "      <td>0.001623</td>\n",
       "      <td>-0.020550</td>\n",
       "      <td>6.785295e-07</td>\n",
       "    </tr>\n",
       "    <tr>\n",
       "      <th>7.0</th>\n",
       "      <td>0</td>\n",
       "      <td>19</td>\n",
       "      <td>19</td>\n",
       "      <td>0.000530</td>\n",
       "      <td>0.000000</td>\n",
       "      <td>inf</td>\n",
       "      <td>inf</td>\n",
       "    </tr>\n",
       "    <tr>\n",
       "      <th>9.0</th>\n",
       "      <td>0</td>\n",
       "      <td>2</td>\n",
       "      <td>2</td>\n",
       "      <td>0.000056</td>\n",
       "      <td>0.000000</td>\n",
       "      <td>inf</td>\n",
       "      <td>inf</td>\n",
       "    </tr>\n",
       "    <tr>\n",
       "      <th>15.0</th>\n",
       "      <td>0</td>\n",
       "      <td>3</td>\n",
       "      <td>3</td>\n",
       "      <td>0.000084</td>\n",
       "      <td>0.000000</td>\n",
       "      <td>inf</td>\n",
       "      <td>inf</td>\n",
       "    </tr>\n",
       "    <tr>\n",
       "      <th>20.0</th>\n",
       "      <td>0</td>\n",
       "      <td>1</td>\n",
       "      <td>1</td>\n",
       "      <td>0.000028</td>\n",
       "      <td>0.000000</td>\n",
       "      <td>inf</td>\n",
       "      <td>inf</td>\n",
       "    </tr>\n",
       "  </tbody>\n",
       "</table>\n",
       "</div>"
      ],
      "text/plain": [
       "VR               Maus   Bons  Total     % Bom     % Mau       WoE  \\\n",
       "TAMANHO_FAMILIA                                                     \n",
       "1.0               139   6848   6987  0.191066  0.225649 -0.166363   \n",
       "2.0               313  19150  19463  0.534304  0.508117  0.050254   \n",
       "3.0               105   6316   6421  0.176223  0.170455  0.033280   \n",
       "4.0                46   3060   3106  0.085377  0.074675  0.133928   \n",
       "5.0                12    385    397  0.010742  0.019481 -0.595264   \n",
       "6.0                 1     57     58  0.001590  0.001623 -0.020550   \n",
       "7.0                 0     19     19  0.000530  0.000000       inf   \n",
       "9.0                 0      2      2  0.000056  0.000000       inf   \n",
       "15.0                0      3      3  0.000084  0.000000       inf   \n",
       "20.0                0      1      1  0.000028  0.000000       inf   \n",
       "\n",
       "VR                         IV  \n",
       "TAMANHO_FAMILIA                \n",
       "1.0              5.753368e-03  \n",
       "2.0              1.316022e-03  \n",
       "3.0              1.919675e-04  \n",
       "4.0              1.433265e-03  \n",
       "5.0              5.201794e-03  \n",
       "6.0              6.785295e-07  \n",
       "7.0                       inf  \n",
       "9.0                       inf  \n",
       "15.0                      inf  \n",
       "20.0                      inf  "
      ]
     },
     "metadata": {},
     "output_type": "display_data"
    }
   ],
   "source": [
    "woe_iv(df_treino, 'TAMANHO_FAMILIA', 'VR')"
   ]
  },
  {
   "cell_type": "markdown",
   "metadata": {},
   "source": [
    "> **Feature Engineering**"
   ]
  },
  {
   "cell_type": "code",
   "execution_count": 88,
   "metadata": {},
   "outputs": [
    {
     "name": "stdout",
     "output_type": "stream",
     "text": [
      "IV:  0.007294994026498985\n"
     ]
    },
    {
     "data": {
      "text/html": [
       "<div>\n",
       "<style scoped>\n",
       "    .dataframe tbody tr th:only-of-type {\n",
       "        vertical-align: middle;\n",
       "    }\n",
       "\n",
       "    .dataframe tbody tr th {\n",
       "        vertical-align: top;\n",
       "    }\n",
       "\n",
       "    .dataframe thead th {\n",
       "        text-align: right;\n",
       "    }\n",
       "</style>\n",
       "<table border=\"1\" class=\"dataframe\">\n",
       "  <thead>\n",
       "    <tr style=\"text-align: right;\">\n",
       "      <th>VR</th>\n",
       "      <th>Maus</th>\n",
       "      <th>Bons</th>\n",
       "      <th>Total</th>\n",
       "      <th>% Bom</th>\n",
       "      <th>% Mau</th>\n",
       "      <th>WoE</th>\n",
       "      <th>IV</th>\n",
       "    </tr>\n",
       "    <tr>\n",
       "      <th>TAMANHO_FAMILIA_2</th>\n",
       "      <th></th>\n",
       "      <th></th>\n",
       "      <th></th>\n",
       "      <th></th>\n",
       "      <th></th>\n",
       "      <th></th>\n",
       "      <th></th>\n",
       "    </tr>\n",
       "  </thead>\n",
       "  <tbody>\n",
       "    <tr>\n",
       "      <th>(0.0, 1.0]</th>\n",
       "      <td>139</td>\n",
       "      <td>6848</td>\n",
       "      <td>6987</td>\n",
       "      <td>0.191066</td>\n",
       "      <td>0.225649</td>\n",
       "      <td>-0.166363</td>\n",
       "      <td>0.005753</td>\n",
       "    </tr>\n",
       "    <tr>\n",
       "      <th>(1.0, 3.0]</th>\n",
       "      <td>418</td>\n",
       "      <td>25466</td>\n",
       "      <td>25884</td>\n",
       "      <td>0.710527</td>\n",
       "      <td>0.678571</td>\n",
       "      <td>0.046017</td>\n",
       "      <td>0.001471</td>\n",
       "    </tr>\n",
       "    <tr>\n",
       "      <th>(3.0, 100.0]</th>\n",
       "      <td>59</td>\n",
       "      <td>3527</td>\n",
       "      <td>3586</td>\n",
       "      <td>0.098407</td>\n",
       "      <td>0.095779</td>\n",
       "      <td>0.027065</td>\n",
       "      <td>0.000071</td>\n",
       "    </tr>\n",
       "  </tbody>\n",
       "</table>\n",
       "</div>"
      ],
      "text/plain": [
       "VR                 Maus   Bons  Total     % Bom     % Mau       WoE        IV\n",
       "TAMANHO_FAMILIA_2                                                            \n",
       "(0.0, 1.0]          139   6848   6987  0.191066  0.225649 -0.166363  0.005753\n",
       "(1.0, 3.0]          418  25466  25884  0.710527  0.678571  0.046017  0.001471\n",
       "(3.0, 100.0]         59   3527   3586  0.098407  0.095779  0.027065  0.000071"
      ]
     },
     "metadata": {},
     "output_type": "display_data"
    }
   ],
   "source": [
    "df_treino['TAMANHO_FAMILIA_2'] = pd.cut(df_treino['TAMANHO_FAMILIA'], bins=[-1,0,1,3,100], include_lowest=True)\n",
    "woe_iv(df_treino, 'TAMANHO_FAMILIA_2', 'VR')"
   ]
  },
  {
   "cell_type": "markdown",
   "metadata": {},
   "source": [
    "**Criação de nova coluna:** FL_SEM_FAMILIA"
   ]
  },
  {
   "cell_type": "code",
   "execution_count": 89,
   "metadata": {},
   "outputs": [
    {
     "name": "stdout",
     "output_type": "stream",
     "text": [
      "IV:  0.0072643930224413076\n"
     ]
    },
    {
     "data": {
      "text/html": [
       "<div>\n",
       "<style scoped>\n",
       "    .dataframe tbody tr th:only-of-type {\n",
       "        vertical-align: middle;\n",
       "    }\n",
       "\n",
       "    .dataframe tbody tr th {\n",
       "        vertical-align: top;\n",
       "    }\n",
       "\n",
       "    .dataframe thead th {\n",
       "        text-align: right;\n",
       "    }\n",
       "</style>\n",
       "<table border=\"1\" class=\"dataframe\">\n",
       "  <thead>\n",
       "    <tr style=\"text-align: right;\">\n",
       "      <th>VR</th>\n",
       "      <th>Maus</th>\n",
       "      <th>Bons</th>\n",
       "      <th>Total</th>\n",
       "      <th>% Bom</th>\n",
       "      <th>% Mau</th>\n",
       "      <th>WoE</th>\n",
       "      <th>IV</th>\n",
       "    </tr>\n",
       "    <tr>\n",
       "      <th>FL_SEM_FAMILIA</th>\n",
       "      <th></th>\n",
       "      <th></th>\n",
       "      <th></th>\n",
       "      <th></th>\n",
       "      <th></th>\n",
       "      <th></th>\n",
       "      <th></th>\n",
       "    </tr>\n",
       "  </thead>\n",
       "  <tbody>\n",
       "    <tr>\n",
       "      <th>0</th>\n",
       "      <td>477</td>\n",
       "      <td>28993</td>\n",
       "      <td>29470</td>\n",
       "      <td>0.808934</td>\n",
       "      <td>0.774351</td>\n",
       "      <td>0.043692</td>\n",
       "      <td>0.001511</td>\n",
       "    </tr>\n",
       "    <tr>\n",
       "      <th>1</th>\n",
       "      <td>139</td>\n",
       "      <td>6848</td>\n",
       "      <td>6987</td>\n",
       "      <td>0.191066</td>\n",
       "      <td>0.225649</td>\n",
       "      <td>-0.166363</td>\n",
       "      <td>0.005753</td>\n",
       "    </tr>\n",
       "  </tbody>\n",
       "</table>\n",
       "</div>"
      ],
      "text/plain": [
       "VR              Maus   Bons  Total     % Bom     % Mau       WoE        IV\n",
       "FL_SEM_FAMILIA                                                            \n",
       "0                477  28993  29470  0.808934  0.774351  0.043692  0.001511\n",
       "1                139   6848   6987  0.191066  0.225649 -0.166363  0.005753"
      ]
     },
     "metadata": {},
     "output_type": "display_data"
    }
   ],
   "source": [
    "df_treino['FL_SEM_FAMILIA'] = [1 if val==1 else 0 for val in df_treino['TAMANHO_FAMILIA']]\n",
    "woe_iv(df_treino, 'FL_SEM_FAMILIA', 'VR')"
   ]
  },
  {
   "cell_type": "markdown",
   "metadata": {},
   "source": [
    "<img src=\"Imagens/dislike.png\" width=60ox>"
   ]
  },
  {
   "cell_type": "markdown",
   "metadata": {},
   "source": [
    "**TIPO_RENDA**"
   ]
  },
  {
   "cell_type": "code",
   "execution_count": 90,
   "metadata": {},
   "outputs": [
    {
     "name": "stdout",
     "output_type": "stream",
     "text": [
      "IV:  0.017556100491037264\n"
     ]
    },
    {
     "data": {
      "text/html": [
       "<div>\n",
       "<style scoped>\n",
       "    .dataframe tbody tr th:only-of-type {\n",
       "        vertical-align: middle;\n",
       "    }\n",
       "\n",
       "    .dataframe tbody tr th {\n",
       "        vertical-align: top;\n",
       "    }\n",
       "\n",
       "    .dataframe thead th {\n",
       "        text-align: right;\n",
       "    }\n",
       "</style>\n",
       "<table border=\"1\" class=\"dataframe\">\n",
       "  <thead>\n",
       "    <tr style=\"text-align: right;\">\n",
       "      <th>VR</th>\n",
       "      <th>Maus</th>\n",
       "      <th>Bons</th>\n",
       "      <th>Total</th>\n",
       "      <th>% Bom</th>\n",
       "      <th>% Mau</th>\n",
       "      <th>WoE</th>\n",
       "      <th>IV</th>\n",
       "    </tr>\n",
       "    <tr>\n",
       "      <th>TIPO_RENDA</th>\n",
       "      <th></th>\n",
       "      <th></th>\n",
       "      <th></th>\n",
       "      <th></th>\n",
       "      <th></th>\n",
       "      <th></th>\n",
       "      <th></th>\n",
       "    </tr>\n",
       "  </thead>\n",
       "  <tbody>\n",
       "    <tr>\n",
       "      <th>Estudante</th>\n",
       "      <td>0</td>\n",
       "      <td>11</td>\n",
       "      <td>11</td>\n",
       "      <td>0.000307</td>\n",
       "      <td>0.000000</td>\n",
       "      <td>inf</td>\n",
       "      <td>inf</td>\n",
       "    </tr>\n",
       "    <tr>\n",
       "      <th>Pensão/Aposentadoria</th>\n",
       "      <td>130</td>\n",
       "      <td>6022</td>\n",
       "      <td>6152</td>\n",
       "      <td>0.168020</td>\n",
       "      <td>0.211039</td>\n",
       "      <td>-0.227961</td>\n",
       "      <td>0.009807</td>\n",
       "    </tr>\n",
       "    <tr>\n",
       "      <th>Representate comercial</th>\n",
       "      <td>143</td>\n",
       "      <td>8347</td>\n",
       "      <td>8490</td>\n",
       "      <td>0.232890</td>\n",
       "      <td>0.232143</td>\n",
       "      <td>0.003212</td>\n",
       "      <td>0.000002</td>\n",
       "    </tr>\n",
       "    <tr>\n",
       "      <th>Servidor público</th>\n",
       "      <td>37</td>\n",
       "      <td>2948</td>\n",
       "      <td>2985</td>\n",
       "      <td>0.082252</td>\n",
       "      <td>0.060065</td>\n",
       "      <td>0.314364</td>\n",
       "      <td>0.006975</td>\n",
       "    </tr>\n",
       "    <tr>\n",
       "      <th>Trabalho</th>\n",
       "      <td>306</td>\n",
       "      <td>18513</td>\n",
       "      <td>18819</td>\n",
       "      <td>0.516531</td>\n",
       "      <td>0.496753</td>\n",
       "      <td>0.039043</td>\n",
       "      <td>0.000772</td>\n",
       "    </tr>\n",
       "  </tbody>\n",
       "</table>\n",
       "</div>"
      ],
      "text/plain": [
       "VR                      Maus   Bons  Total     % Bom     % Mau       WoE  \\\n",
       "TIPO_RENDA                                                                 \n",
       "Estudante                  0     11     11  0.000307  0.000000       inf   \n",
       "Pensão/Aposentadoria     130   6022   6152  0.168020  0.211039 -0.227961   \n",
       "Representate comercial   143   8347   8490  0.232890  0.232143  0.003212   \n",
       "Servidor público          37   2948   2985  0.082252  0.060065  0.314364   \n",
       "Trabalho                 306  18513  18819  0.516531  0.496753  0.039043   \n",
       "\n",
       "VR                            IV  \n",
       "TIPO_RENDA                        \n",
       "Estudante                    inf  \n",
       "Pensão/Aposentadoria    0.009807  \n",
       "Representate comercial  0.000002  \n",
       "Servidor público        0.006975  \n",
       "Trabalho                0.000772  "
      ]
     },
     "metadata": {},
     "output_type": "display_data"
    }
   ],
   "source": [
    "woe_iv(df_treino, 'TIPO_RENDA', 'VR')"
   ]
  },
  {
   "cell_type": "markdown",
   "metadata": {},
   "source": [
    "> **Feature Engineering**"
   ]
  },
  {
   "cell_type": "code",
   "execution_count": 91,
   "metadata": {},
   "outputs": [],
   "source": [
    "df_treino['TIPO_RENDA_2'] = df_treino['TIPO_RENDA'].replace({'Estudante':'Estudante/Trabalho/Representante Com.',\n",
    "                                                            'Trabalho':'Estudante/Trabalho/Representante Com.',\n",
    "                                                            'Representate comercial':'Estudante/Trabalho/Representante Com.'})"
   ]
  },
  {
   "cell_type": "code",
   "execution_count": 92,
   "metadata": {},
   "outputs": [
    {
     "name": "stdout",
     "output_type": "stream",
     "text": [
      "IV:  0.01736853961698635\n"
     ]
    },
    {
     "data": {
      "text/html": [
       "<div>\n",
       "<style scoped>\n",
       "    .dataframe tbody tr th:only-of-type {\n",
       "        vertical-align: middle;\n",
       "    }\n",
       "\n",
       "    .dataframe tbody tr th {\n",
       "        vertical-align: top;\n",
       "    }\n",
       "\n",
       "    .dataframe thead th {\n",
       "        text-align: right;\n",
       "    }\n",
       "</style>\n",
       "<table border=\"1\" class=\"dataframe\">\n",
       "  <thead>\n",
       "    <tr style=\"text-align: right;\">\n",
       "      <th>VR</th>\n",
       "      <th>Maus</th>\n",
       "      <th>Bons</th>\n",
       "      <th>Total</th>\n",
       "      <th>% Bom</th>\n",
       "      <th>% Mau</th>\n",
       "      <th>WoE</th>\n",
       "      <th>IV</th>\n",
       "    </tr>\n",
       "    <tr>\n",
       "      <th>TIPO_RENDA_2</th>\n",
       "      <th></th>\n",
       "      <th></th>\n",
       "      <th></th>\n",
       "      <th></th>\n",
       "      <th></th>\n",
       "      <th></th>\n",
       "      <th></th>\n",
       "    </tr>\n",
       "  </thead>\n",
       "  <tbody>\n",
       "    <tr>\n",
       "      <th>Estudante/Trabalho/Representante Com.</th>\n",
       "      <td>449</td>\n",
       "      <td>26871</td>\n",
       "      <td>27320</td>\n",
       "      <td>0.749728</td>\n",
       "      <td>0.728896</td>\n",
       "      <td>0.028179</td>\n",
       "      <td>0.000587</td>\n",
       "    </tr>\n",
       "    <tr>\n",
       "      <th>Pensão/Aposentadoria</th>\n",
       "      <td>130</td>\n",
       "      <td>6022</td>\n",
       "      <td>6152</td>\n",
       "      <td>0.168020</td>\n",
       "      <td>0.211039</td>\n",
       "      <td>-0.227961</td>\n",
       "      <td>0.009807</td>\n",
       "    </tr>\n",
       "    <tr>\n",
       "      <th>Servidor público</th>\n",
       "      <td>37</td>\n",
       "      <td>2948</td>\n",
       "      <td>2985</td>\n",
       "      <td>0.082252</td>\n",
       "      <td>0.060065</td>\n",
       "      <td>0.314364</td>\n",
       "      <td>0.006975</td>\n",
       "    </tr>\n",
       "  </tbody>\n",
       "</table>\n",
       "</div>"
      ],
      "text/plain": [
       "VR                                     Maus   Bons  Total     % Bom     % Mau  \\\n",
       "TIPO_RENDA_2                                                                    \n",
       "Estudante/Trabalho/Representante Com.   449  26871  27320  0.749728  0.728896   \n",
       "Pensão/Aposentadoria                    130   6022   6152  0.168020  0.211039   \n",
       "Servidor público                         37   2948   2985  0.082252  0.060065   \n",
       "\n",
       "VR                                          WoE        IV  \n",
       "TIPO_RENDA_2                                               \n",
       "Estudante/Trabalho/Representante Com.  0.028179  0.000587  \n",
       "Pensão/Aposentadoria                  -0.227961  0.009807  \n",
       "Servidor público                       0.314364  0.006975  "
      ]
     },
     "metadata": {},
     "output_type": "display_data"
    }
   ],
   "source": [
    "woe_iv(df_treino, 'TIPO_RENDA_2', 'VR')"
   ]
  },
  {
   "cell_type": "markdown",
   "metadata": {},
   "source": [
    "<img src=\"Imagens/good.png\" width=60ox>"
   ]
  },
  {
   "cell_type": "markdown",
   "metadata": {},
   "source": [
    "**ESCOLARIDADE**"
   ]
  },
  {
   "cell_type": "code",
   "execution_count": 93,
   "metadata": {},
   "outputs": [
    {
     "name": "stdout",
     "output_type": "stream",
     "text": [
      "IV:  0.009208778787924534\n"
     ]
    },
    {
     "data": {
      "text/html": [
       "<div>\n",
       "<style scoped>\n",
       "    .dataframe tbody tr th:only-of-type {\n",
       "        vertical-align: middle;\n",
       "    }\n",
       "\n",
       "    .dataframe tbody tr th {\n",
       "        vertical-align: top;\n",
       "    }\n",
       "\n",
       "    .dataframe thead th {\n",
       "        text-align: right;\n",
       "    }\n",
       "</style>\n",
       "<table border=\"1\" class=\"dataframe\">\n",
       "  <thead>\n",
       "    <tr style=\"text-align: right;\">\n",
       "      <th>VR</th>\n",
       "      <th>Maus</th>\n",
       "      <th>Bons</th>\n",
       "      <th>Total</th>\n",
       "      <th>% Bom</th>\n",
       "      <th>% Mau</th>\n",
       "      <th>WoE</th>\n",
       "      <th>IV</th>\n",
       "    </tr>\n",
       "    <tr>\n",
       "      <th>ESCOLARIDADE</th>\n",
       "      <th></th>\n",
       "      <th></th>\n",
       "      <th></th>\n",
       "      <th></th>\n",
       "      <th></th>\n",
       "      <th></th>\n",
       "      <th></th>\n",
       "    </tr>\n",
       "  </thead>\n",
       "  <tbody>\n",
       "    <tr>\n",
       "      <th>Ensino fundamental</th>\n",
       "      <td>10</td>\n",
       "      <td>364</td>\n",
       "      <td>374</td>\n",
       "      <td>0.010156</td>\n",
       "      <td>0.016234</td>\n",
       "      <td>-0.469032</td>\n",
       "      <td>0.002851</td>\n",
       "    </tr>\n",
       "    <tr>\n",
       "      <th>Graduação completa</th>\n",
       "      <td>171</td>\n",
       "      <td>9693</td>\n",
       "      <td>9864</td>\n",
       "      <td>0.270444</td>\n",
       "      <td>0.277597</td>\n",
       "      <td>-0.026105</td>\n",
       "      <td>0.000187</td>\n",
       "    </tr>\n",
       "    <tr>\n",
       "      <th>Graduação incompleta</th>\n",
       "      <td>33</td>\n",
       "      <td>1377</td>\n",
       "      <td>1410</td>\n",
       "      <td>0.038420</td>\n",
       "      <td>0.053571</td>\n",
       "      <td>-0.332446</td>\n",
       "      <td>0.005037</td>\n",
       "    </tr>\n",
       "    <tr>\n",
       "      <th>Licenciatura</th>\n",
       "      <td>402</td>\n",
       "      <td>24375</td>\n",
       "      <td>24777</td>\n",
       "      <td>0.680087</td>\n",
       "      <td>0.652597</td>\n",
       "      <td>0.041260</td>\n",
       "      <td>0.001134</td>\n",
       "    </tr>\n",
       "    <tr>\n",
       "      <th>Mestrado</th>\n",
       "      <td>0</td>\n",
       "      <td>32</td>\n",
       "      <td>32</td>\n",
       "      <td>0.000893</td>\n",
       "      <td>0.000000</td>\n",
       "      <td>inf</td>\n",
       "      <td>inf</td>\n",
       "    </tr>\n",
       "  </tbody>\n",
       "</table>\n",
       "</div>"
      ],
      "text/plain": [
       "VR                    Maus   Bons  Total     % Bom     % Mau       WoE  \\\n",
       "ESCOLARIDADE                                                             \n",
       "Ensino fundamental      10    364    374  0.010156  0.016234 -0.469032   \n",
       "Graduação completa     171   9693   9864  0.270444  0.277597 -0.026105   \n",
       "Graduação incompleta    33   1377   1410  0.038420  0.053571 -0.332446   \n",
       "Licenciatura           402  24375  24777  0.680087  0.652597  0.041260   \n",
       "Mestrado                 0     32     32  0.000893  0.000000       inf   \n",
       "\n",
       "VR                          IV  \n",
       "ESCOLARIDADE                    \n",
       "Ensino fundamental    0.002851  \n",
       "Graduação completa    0.000187  \n",
       "Graduação incompleta  0.005037  \n",
       "Licenciatura          0.001134  \n",
       "Mestrado                   inf  "
      ]
     },
     "metadata": {},
     "output_type": "display_data"
    }
   ],
   "source": [
    "woe_iv(df_treino, 'ESCOLARIDADE', 'VR')"
   ]
  },
  {
   "cell_type": "markdown",
   "metadata": {},
   "source": [
    "> **Feature Engineering**"
   ]
  },
  {
   "cell_type": "code",
   "execution_count": 94,
   "metadata": {},
   "outputs": [],
   "source": [
    "df_treino['ESCOLARIDADE_2'] = df_treino['ESCOLARIDADE'].replace({'Licenciatura':'Superior completo',\n",
    "                                                                'Mestrado':'Superior completo',\n",
    "                                                                'Graduação completa':'Superior completo',\n",
    "                                                                'Ensino fundamental':'Superior incompleto',\n",
    "                                                                'Graduação incompleta':'Superior incompleto'})"
   ]
  },
  {
   "cell_type": "code",
   "execution_count": 95,
   "metadata": {},
   "outputs": [
    {
     "name": "stdout",
     "output_type": "stream",
     "text": [
      "IV:  0.008176602861786564\n"
     ]
    },
    {
     "data": {
      "text/html": [
       "<div>\n",
       "<style scoped>\n",
       "    .dataframe tbody tr th:only-of-type {\n",
       "        vertical-align: middle;\n",
       "    }\n",
       "\n",
       "    .dataframe tbody tr th {\n",
       "        vertical-align: top;\n",
       "    }\n",
       "\n",
       "    .dataframe thead th {\n",
       "        text-align: right;\n",
       "    }\n",
       "</style>\n",
       "<table border=\"1\" class=\"dataframe\">\n",
       "  <thead>\n",
       "    <tr style=\"text-align: right;\">\n",
       "      <th>VR</th>\n",
       "      <th>Maus</th>\n",
       "      <th>Bons</th>\n",
       "      <th>Total</th>\n",
       "      <th>% Bom</th>\n",
       "      <th>% Mau</th>\n",
       "      <th>WoE</th>\n",
       "      <th>IV</th>\n",
       "    </tr>\n",
       "    <tr>\n",
       "      <th>ESCOLARIDADE_2</th>\n",
       "      <th></th>\n",
       "      <th></th>\n",
       "      <th></th>\n",
       "      <th></th>\n",
       "      <th></th>\n",
       "      <th></th>\n",
       "      <th></th>\n",
       "    </tr>\n",
       "  </thead>\n",
       "  <tbody>\n",
       "    <tr>\n",
       "      <th>Superior completo</th>\n",
       "      <td>573</td>\n",
       "      <td>34100</td>\n",
       "      <td>34673</td>\n",
       "      <td>0.951424</td>\n",
       "      <td>0.930195</td>\n",
       "      <td>0.022566</td>\n",
       "      <td>0.000479</td>\n",
       "    </tr>\n",
       "    <tr>\n",
       "      <th>Superior incompleto</th>\n",
       "      <td>43</td>\n",
       "      <td>1741</td>\n",
       "      <td>1784</td>\n",
       "      <td>0.048576</td>\n",
       "      <td>0.069805</td>\n",
       "      <td>-0.362586</td>\n",
       "      <td>0.007698</td>\n",
       "    </tr>\n",
       "  </tbody>\n",
       "</table>\n",
       "</div>"
      ],
      "text/plain": [
       "VR                   Maus   Bons  Total     % Bom     % Mau       WoE  \\\n",
       "ESCOLARIDADE_2                                                          \n",
       "Superior completo     573  34100  34673  0.951424  0.930195  0.022566   \n",
       "Superior incompleto    43   1741   1784  0.048576  0.069805 -0.362586   \n",
       "\n",
       "VR                         IV  \n",
       "ESCOLARIDADE_2                 \n",
       "Superior completo    0.000479  \n",
       "Superior incompleto  0.007698  "
      ]
     },
     "metadata": {},
     "output_type": "display_data"
    }
   ],
   "source": [
    "woe_iv(df_treino, 'ESCOLARIDADE_2', 'VR')"
   ]
  },
  {
   "cell_type": "markdown",
   "metadata": {},
   "source": [
    "<img src=\"Imagens/good.png\" width=60ox>"
   ]
  },
  {
   "cell_type": "markdown",
   "metadata": {},
   "source": [
    "**ESTADO_CIVIL**"
   ]
  },
  {
   "cell_type": "code",
   "execution_count": 96,
   "metadata": {},
   "outputs": [
    {
     "name": "stdout",
     "output_type": "stream",
     "text": [
      "IV:  0.030119259773091364\n"
     ]
    },
    {
     "data": {
      "text/html": [
       "<div>\n",
       "<style scoped>\n",
       "    .dataframe tbody tr th:only-of-type {\n",
       "        vertical-align: middle;\n",
       "    }\n",
       "\n",
       "    .dataframe tbody tr th {\n",
       "        vertical-align: top;\n",
       "    }\n",
       "\n",
       "    .dataframe thead th {\n",
       "        text-align: right;\n",
       "    }\n",
       "</style>\n",
       "<table border=\"1\" class=\"dataframe\">\n",
       "  <thead>\n",
       "    <tr style=\"text-align: right;\">\n",
       "      <th>VR</th>\n",
       "      <th>Maus</th>\n",
       "      <th>Bons</th>\n",
       "      <th>Total</th>\n",
       "      <th>% Bom</th>\n",
       "      <th>% Mau</th>\n",
       "      <th>WoE</th>\n",
       "      <th>IV</th>\n",
       "    </tr>\n",
       "    <tr>\n",
       "      <th>ESTADO_CIVIL</th>\n",
       "      <th></th>\n",
       "      <th></th>\n",
       "      <th></th>\n",
       "      <th></th>\n",
       "      <th></th>\n",
       "      <th></th>\n",
       "      <th></th>\n",
       "    </tr>\n",
       "  </thead>\n",
       "  <tbody>\n",
       "    <tr>\n",
       "      <th>Casado</th>\n",
       "      <td>393</td>\n",
       "      <td>24655</td>\n",
       "      <td>25048</td>\n",
       "      <td>0.687899</td>\n",
       "      <td>0.637987</td>\n",
       "      <td>0.075325</td>\n",
       "      <td>0.003760</td>\n",
       "    </tr>\n",
       "    <tr>\n",
       "      <th>Casado no civil</th>\n",
       "      <td>46</td>\n",
       "      <td>2899</td>\n",
       "      <td>2945</td>\n",
       "      <td>0.080885</td>\n",
       "      <td>0.074675</td>\n",
       "      <td>0.079879</td>\n",
       "      <td>0.000496</td>\n",
       "    </tr>\n",
       "    <tr>\n",
       "      <th>Divorciado</th>\n",
       "      <td>31</td>\n",
       "      <td>2072</td>\n",
       "      <td>2103</td>\n",
       "      <td>0.057811</td>\n",
       "      <td>0.050325</td>\n",
       "      <td>0.138682</td>\n",
       "      <td>0.001038</td>\n",
       "    </tr>\n",
       "    <tr>\n",
       "      <th>Solteiro</th>\n",
       "      <td>101</td>\n",
       "      <td>4728</td>\n",
       "      <td>4829</td>\n",
       "      <td>0.131916</td>\n",
       "      <td>0.163961</td>\n",
       "      <td>-0.217464</td>\n",
       "      <td>0.006969</td>\n",
       "    </tr>\n",
       "    <tr>\n",
       "      <th>Viúvo</th>\n",
       "      <td>45</td>\n",
       "      <td>1487</td>\n",
       "      <td>1532</td>\n",
       "      <td>0.041489</td>\n",
       "      <td>0.073052</td>\n",
       "      <td>-0.565747</td>\n",
       "      <td>0.017857</td>\n",
       "    </tr>\n",
       "  </tbody>\n",
       "</table>\n",
       "</div>"
      ],
      "text/plain": [
       "VR               Maus   Bons  Total     % Bom     % Mau       WoE        IV\n",
       "ESTADO_CIVIL                                                               \n",
       "Casado            393  24655  25048  0.687899  0.637987  0.075325  0.003760\n",
       "Casado no civil    46   2899   2945  0.080885  0.074675  0.079879  0.000496\n",
       "Divorciado         31   2072   2103  0.057811  0.050325  0.138682  0.001038\n",
       "Solteiro          101   4728   4829  0.131916  0.163961 -0.217464  0.006969\n",
       "Viúvo              45   1487   1532  0.041489  0.073052 -0.565747  0.017857"
      ]
     },
     "metadata": {},
     "output_type": "display_data"
    }
   ],
   "source": [
    "woe_iv(df_treino, 'ESTADO_CIVIL', 'VR')"
   ]
  },
  {
   "cell_type": "markdown",
   "metadata": {},
   "source": [
    "> **Feature Engineering**"
   ]
  },
  {
   "cell_type": "code",
   "execution_count": 97,
   "metadata": {},
   "outputs": [],
   "source": [
    "df_treino['ESTADO_CIVIL_2'] = df_treino['ESTADO_CIVIL'].replace({'Casado no civil':'Casado/Separado',\n",
    "                                                                'Casado':'Casado/Separado',\n",
    "                                                                'Divorciado':'Casado/Separado'})"
   ]
  },
  {
   "cell_type": "code",
   "execution_count": 98,
   "metadata": {},
   "outputs": [
    {
     "name": "stdout",
     "output_type": "stream",
     "text": [
      "IV:  0.029918785232359604\n"
     ]
    },
    {
     "data": {
      "text/html": [
       "<div>\n",
       "<style scoped>\n",
       "    .dataframe tbody tr th:only-of-type {\n",
       "        vertical-align: middle;\n",
       "    }\n",
       "\n",
       "    .dataframe tbody tr th {\n",
       "        vertical-align: top;\n",
       "    }\n",
       "\n",
       "    .dataframe thead th {\n",
       "        text-align: right;\n",
       "    }\n",
       "</style>\n",
       "<table border=\"1\" class=\"dataframe\">\n",
       "  <thead>\n",
       "    <tr style=\"text-align: right;\">\n",
       "      <th>VR</th>\n",
       "      <th>Maus</th>\n",
       "      <th>Bons</th>\n",
       "      <th>Total</th>\n",
       "      <th>% Bom</th>\n",
       "      <th>% Mau</th>\n",
       "      <th>WoE</th>\n",
       "      <th>IV</th>\n",
       "    </tr>\n",
       "    <tr>\n",
       "      <th>ESTADO_CIVIL_2</th>\n",
       "      <th></th>\n",
       "      <th></th>\n",
       "      <th></th>\n",
       "      <th></th>\n",
       "      <th></th>\n",
       "      <th></th>\n",
       "      <th></th>\n",
       "    </tr>\n",
       "  </thead>\n",
       "  <tbody>\n",
       "    <tr>\n",
       "      <th>Casado/Separado</th>\n",
       "      <td>470</td>\n",
       "      <td>29626</td>\n",
       "      <td>30096</td>\n",
       "      <td>0.826595</td>\n",
       "      <td>0.762987</td>\n",
       "      <td>0.080074</td>\n",
       "      <td>0.005093</td>\n",
       "    </tr>\n",
       "    <tr>\n",
       "      <th>Solteiro</th>\n",
       "      <td>101</td>\n",
       "      <td>4728</td>\n",
       "      <td>4829</td>\n",
       "      <td>0.131916</td>\n",
       "      <td>0.163961</td>\n",
       "      <td>-0.217464</td>\n",
       "      <td>0.006969</td>\n",
       "    </tr>\n",
       "    <tr>\n",
       "      <th>Viúvo</th>\n",
       "      <td>45</td>\n",
       "      <td>1487</td>\n",
       "      <td>1532</td>\n",
       "      <td>0.041489</td>\n",
       "      <td>0.073052</td>\n",
       "      <td>-0.565747</td>\n",
       "      <td>0.017857</td>\n",
       "    </tr>\n",
       "  </tbody>\n",
       "</table>\n",
       "</div>"
      ],
      "text/plain": [
       "VR               Maus   Bons  Total     % Bom     % Mau       WoE        IV\n",
       "ESTADO_CIVIL_2                                                             \n",
       "Casado/Separado   470  29626  30096  0.826595  0.762987  0.080074  0.005093\n",
       "Solteiro          101   4728   4829  0.131916  0.163961 -0.217464  0.006969\n",
       "Viúvo              45   1487   1532  0.041489  0.073052 -0.565747  0.017857"
      ]
     },
     "metadata": {},
     "output_type": "display_data"
    }
   ],
   "source": [
    "woe_iv(df_treino, 'ESTADO_CIVIL_2', 'VR')"
   ]
  },
  {
   "cell_type": "markdown",
   "metadata": {},
   "source": [
    "<img src=\"Imagens/good.png\" width=60ox>"
   ]
  },
  {
   "cell_type": "markdown",
   "metadata": {},
   "source": [
    "**TIPO_MORADIA**"
   ]
  },
  {
   "cell_type": "code",
   "execution_count": 99,
   "metadata": {},
   "outputs": [
    {
     "name": "stdout",
     "output_type": "stream",
     "text": [
      "IV:  0.015711059499443562\n"
     ]
    },
    {
     "data": {
      "text/html": [
       "<div>\n",
       "<style scoped>\n",
       "    .dataframe tbody tr th:only-of-type {\n",
       "        vertical-align: middle;\n",
       "    }\n",
       "\n",
       "    .dataframe tbody tr th {\n",
       "        vertical-align: top;\n",
       "    }\n",
       "\n",
       "    .dataframe thead th {\n",
       "        text-align: right;\n",
       "    }\n",
       "</style>\n",
       "<table border=\"1\" class=\"dataframe\">\n",
       "  <thead>\n",
       "    <tr style=\"text-align: right;\">\n",
       "      <th>VR</th>\n",
       "      <th>Maus</th>\n",
       "      <th>Bons</th>\n",
       "      <th>Total</th>\n",
       "      <th>% Bom</th>\n",
       "      <th>% Mau</th>\n",
       "      <th>WoE</th>\n",
       "      <th>IV</th>\n",
       "    </tr>\n",
       "    <tr>\n",
       "      <th>TIPO_MORADIA</th>\n",
       "      <th></th>\n",
       "      <th></th>\n",
       "      <th></th>\n",
       "      <th></th>\n",
       "      <th></th>\n",
       "      <th></th>\n",
       "      <th></th>\n",
       "    </tr>\n",
       "  </thead>\n",
       "  <tbody>\n",
       "    <tr>\n",
       "      <th>Apartamento Co-op</th>\n",
       "      <td>3</td>\n",
       "      <td>165</td>\n",
       "      <td>168</td>\n",
       "      <td>0.004604</td>\n",
       "      <td>0.004870</td>\n",
       "      <td>-0.056268</td>\n",
       "      <td>0.000015</td>\n",
       "    </tr>\n",
       "    <tr>\n",
       "      <th>Apartamento alugado</th>\n",
       "      <td>8</td>\n",
       "      <td>567</td>\n",
       "      <td>575</td>\n",
       "      <td>0.015820</td>\n",
       "      <td>0.012987</td>\n",
       "      <td>0.197317</td>\n",
       "      <td>0.000559</td>\n",
       "    </tr>\n",
       "    <tr>\n",
       "      <th>Casa / Apartamento</th>\n",
       "      <td>540</td>\n",
       "      <td>32008</td>\n",
       "      <td>32548</td>\n",
       "      <td>0.893055</td>\n",
       "      <td>0.876623</td>\n",
       "      <td>0.018571</td>\n",
       "      <td>0.000305</td>\n",
       "    </tr>\n",
       "    <tr>\n",
       "      <th>Com os pais</th>\n",
       "      <td>26</td>\n",
       "      <td>1750</td>\n",
       "      <td>1776</td>\n",
       "      <td>0.048827</td>\n",
       "      <td>0.042208</td>\n",
       "      <td>0.145674</td>\n",
       "      <td>0.000964</td>\n",
       "    </tr>\n",
       "    <tr>\n",
       "      <th>Estúdio</th>\n",
       "      <td>9</td>\n",
       "      <td>253</td>\n",
       "      <td>262</td>\n",
       "      <td>0.007059</td>\n",
       "      <td>0.014610</td>\n",
       "      <td>-0.727436</td>\n",
       "      <td>0.005493</td>\n",
       "    </tr>\n",
       "    <tr>\n",
       "      <th>Habitação popular</th>\n",
       "      <td>30</td>\n",
       "      <td>1098</td>\n",
       "      <td>1128</td>\n",
       "      <td>0.030635</td>\n",
       "      <td>0.048701</td>\n",
       "      <td>-0.463553</td>\n",
       "      <td>0.008375</td>\n",
       "    </tr>\n",
       "  </tbody>\n",
       "</table>\n",
       "</div>"
      ],
      "text/plain": [
       "VR                   Maus   Bons  Total     % Bom     % Mau       WoE  \\\n",
       "TIPO_MORADIA                                                            \n",
       "Apartamento Co-op       3    165    168  0.004604  0.004870 -0.056268   \n",
       "Apartamento alugado     8    567    575  0.015820  0.012987  0.197317   \n",
       "Casa / Apartamento    540  32008  32548  0.893055  0.876623  0.018571   \n",
       "Com os pais            26   1750   1776  0.048827  0.042208  0.145674   \n",
       "Estúdio                 9    253    262  0.007059  0.014610 -0.727436   \n",
       "Habitação popular      30   1098   1128  0.030635  0.048701 -0.463553   \n",
       "\n",
       "VR                         IV  \n",
       "TIPO_MORADIA                   \n",
       "Apartamento Co-op    0.000015  \n",
       "Apartamento alugado  0.000559  \n",
       "Casa / Apartamento   0.000305  \n",
       "Com os pais          0.000964  \n",
       "Estúdio              0.005493  \n",
       "Habitação popular    0.008375  "
      ]
     },
     "metadata": {},
     "output_type": "display_data"
    }
   ],
   "source": [
    "woe_iv(df_treino, 'TIPO_MORADIA', 'VR')"
   ]
  },
  {
   "cell_type": "markdown",
   "metadata": {},
   "source": [
    "> **Feature Engineering**"
   ]
  },
  {
   "cell_type": "code",
   "execution_count": 100,
   "metadata": {},
   "outputs": [],
   "source": [
    "df_treino['TIPO_MORADIA_2'] = df_treino['TIPO_MORADIA'].replace({'Apartamento Co-op':'Apartamento Co-op/Casa/Apartamento',\n",
    "                                                            'Casa / Apartamento':'Apartamento Co-op/Casa/Apartamento',\n",
    "                                                            'Com os pais':'Com os pais/Apartamento alugado',\n",
    "                                                            'Apartamento alugado':'Com os pais/Apartamento alugado',\n",
    "                                                            'Estúdio':'Estúdio/Habitação popular',\n",
    "                                                            'Habitação popular':'Estúdio/Habitação popular'\n",
    "                                                            })"
   ]
  },
  {
   "cell_type": "code",
   "execution_count": 101,
   "metadata": {},
   "outputs": [
    {
     "name": "stdout",
     "output_type": "stream",
     "text": [
      "IV:  0.01507202470535343\n"
     ]
    },
    {
     "data": {
      "text/html": [
       "<div>\n",
       "<style scoped>\n",
       "    .dataframe tbody tr th:only-of-type {\n",
       "        vertical-align: middle;\n",
       "    }\n",
       "\n",
       "    .dataframe tbody tr th {\n",
       "        vertical-align: top;\n",
       "    }\n",
       "\n",
       "    .dataframe thead th {\n",
       "        text-align: right;\n",
       "    }\n",
       "</style>\n",
       "<table border=\"1\" class=\"dataframe\">\n",
       "  <thead>\n",
       "    <tr style=\"text-align: right;\">\n",
       "      <th>VR</th>\n",
       "      <th>Maus</th>\n",
       "      <th>Bons</th>\n",
       "      <th>Total</th>\n",
       "      <th>% Bom</th>\n",
       "      <th>% Mau</th>\n",
       "      <th>WoE</th>\n",
       "      <th>IV</th>\n",
       "    </tr>\n",
       "    <tr>\n",
       "      <th>TIPO_MORADIA_2</th>\n",
       "      <th></th>\n",
       "      <th></th>\n",
       "      <th></th>\n",
       "      <th></th>\n",
       "      <th></th>\n",
       "      <th></th>\n",
       "      <th></th>\n",
       "    </tr>\n",
       "  </thead>\n",
       "  <tbody>\n",
       "    <tr>\n",
       "      <th>Apartamento Co-op/Casa/Apartamento</th>\n",
       "      <td>543</td>\n",
       "      <td>32173</td>\n",
       "      <td>32716</td>\n",
       "      <td>0.897659</td>\n",
       "      <td>0.881494</td>\n",
       "      <td>0.018173</td>\n",
       "      <td>0.000294</td>\n",
       "    </tr>\n",
       "    <tr>\n",
       "      <th>Com os pais/Apartamento alugado</th>\n",
       "      <td>34</td>\n",
       "      <td>2317</td>\n",
       "      <td>2351</td>\n",
       "      <td>0.064647</td>\n",
       "      <td>0.055195</td>\n",
       "      <td>0.158067</td>\n",
       "      <td>0.001494</td>\n",
       "    </tr>\n",
       "    <tr>\n",
       "      <th>Estúdio/Habitação popular</th>\n",
       "      <td>39</td>\n",
       "      <td>1351</td>\n",
       "      <td>1390</td>\n",
       "      <td>0.037694</td>\n",
       "      <td>0.063312</td>\n",
       "      <td>-0.518562</td>\n",
       "      <td>0.013284</td>\n",
       "    </tr>\n",
       "  </tbody>\n",
       "</table>\n",
       "</div>"
      ],
      "text/plain": [
       "VR                                  Maus   Bons  Total     % Bom     % Mau  \\\n",
       "TIPO_MORADIA_2                                                               \n",
       "Apartamento Co-op/Casa/Apartamento   543  32173  32716  0.897659  0.881494   \n",
       "Com os pais/Apartamento alugado       34   2317   2351  0.064647  0.055195   \n",
       "Estúdio/Habitação popular             39   1351   1390  0.037694  0.063312   \n",
       "\n",
       "VR                                       WoE        IV  \n",
       "TIPO_MORADIA_2                                          \n",
       "Apartamento Co-op/Casa/Apartamento  0.018173  0.000294  \n",
       "Com os pais/Apartamento alugado     0.158067  0.001494  \n",
       "Estúdio/Habitação popular          -0.518562  0.013284  "
      ]
     },
     "metadata": {},
     "output_type": "display_data"
    }
   ],
   "source": [
    "woe_iv(df_treino, 'TIPO_MORADIA_2', 'VR')"
   ]
  },
  {
   "cell_type": "markdown",
   "metadata": {},
   "source": [
    "<img src=\"Imagens/good.png\" width=60px>"
   ]
  },
  {
   "cell_type": "markdown",
   "metadata": {},
   "source": [
    "**RENDA_ANUAL**"
   ]
  },
  {
   "cell_type": "code",
   "execution_count": 102,
   "metadata": {},
   "outputs": [
    {
     "name": "stdout",
     "output_type": "stream",
     "text": [
      "IV:  0.005200885141117309\n"
     ]
    },
    {
     "data": {
      "text/html": [
       "<div>\n",
       "<style scoped>\n",
       "    .dataframe tbody tr th:only-of-type {\n",
       "        vertical-align: middle;\n",
       "    }\n",
       "\n",
       "    .dataframe tbody tr th {\n",
       "        vertical-align: top;\n",
       "    }\n",
       "\n",
       "    .dataframe thead th {\n",
       "        text-align: right;\n",
       "    }\n",
       "</style>\n",
       "<table border=\"1\" class=\"dataframe\">\n",
       "  <thead>\n",
       "    <tr style=\"text-align: right;\">\n",
       "      <th>VR</th>\n",
       "      <th>Maus</th>\n",
       "      <th>Bons</th>\n",
       "      <th>Total</th>\n",
       "      <th>% Bom</th>\n",
       "      <th>% Mau</th>\n",
       "      <th>WoE</th>\n",
       "      <th>IV</th>\n",
       "    </tr>\n",
       "    <tr>\n",
       "      <th>FX_RENDA</th>\n",
       "      <th></th>\n",
       "      <th></th>\n",
       "      <th></th>\n",
       "      <th></th>\n",
       "      <th></th>\n",
       "      <th></th>\n",
       "      <th></th>\n",
       "    </tr>\n",
       "  </thead>\n",
       "  <tbody>\n",
       "    <tr>\n",
       "      <th>(26999.999, 121500.0]</th>\n",
       "      <td>167</td>\n",
       "      <td>9226</td>\n",
       "      <td>9393</td>\n",
       "      <td>0.257415</td>\n",
       "      <td>0.271104</td>\n",
       "      <td>-0.051814</td>\n",
       "      <td>0.000709</td>\n",
       "    </tr>\n",
       "    <tr>\n",
       "      <th>(121500.0, 157500.0]</th>\n",
       "      <td>139</td>\n",
       "      <td>9031</td>\n",
       "      <td>9170</td>\n",
       "      <td>0.251974</td>\n",
       "      <td>0.225649</td>\n",
       "      <td>0.110344</td>\n",
       "      <td>0.002905</td>\n",
       "    </tr>\n",
       "    <tr>\n",
       "      <th>(157500.0, 225000.0]</th>\n",
       "      <td>183</td>\n",
       "      <td>9942</td>\n",
       "      <td>10125</td>\n",
       "      <td>0.277392</td>\n",
       "      <td>0.297078</td>\n",
       "      <td>-0.068563</td>\n",
       "      <td>0.001350</td>\n",
       "    </tr>\n",
       "    <tr>\n",
       "      <th>(225000.0, 1575000.0]</th>\n",
       "      <td>127</td>\n",
       "      <td>7642</td>\n",
       "      <td>7769</td>\n",
       "      <td>0.213219</td>\n",
       "      <td>0.206169</td>\n",
       "      <td>0.033627</td>\n",
       "      <td>0.000237</td>\n",
       "    </tr>\n",
       "  </tbody>\n",
       "</table>\n",
       "</div>"
      ],
      "text/plain": [
       "VR                     Maus  Bons  Total     % Bom     % Mau       WoE  \\\n",
       "FX_RENDA                                                                 \n",
       "(26999.999, 121500.0]   167  9226   9393  0.257415  0.271104 -0.051814   \n",
       "(121500.0, 157500.0]    139  9031   9170  0.251974  0.225649  0.110344   \n",
       "(157500.0, 225000.0]    183  9942  10125  0.277392  0.297078 -0.068563   \n",
       "(225000.0, 1575000.0]   127  7642   7769  0.213219  0.206169  0.033627   \n",
       "\n",
       "VR                           IV  \n",
       "FX_RENDA                         \n",
       "(26999.999, 121500.0]  0.000709  \n",
       "(121500.0, 157500.0]   0.002905  \n",
       "(157500.0, 225000.0]   0.001350  \n",
       "(225000.0, 1575000.0]  0.000237  "
      ]
     },
     "metadata": {},
     "output_type": "display_data"
    }
   ],
   "source": [
    "# Definição de 5 faixas\n",
    "df_treino['FX_RENDA'] = pd.qcut(df_treino['RENDA_ANUAL'], q=4)\n",
    "woe_iv(df_treino, 'FX_RENDA', 'VR')"
   ]
  },
  {
   "cell_type": "markdown",
   "metadata": {},
   "source": [
    "<img src=\"Imagens/dislike.png\" width=60ox>"
   ]
  },
  {
   "cell_type": "markdown",
   "metadata": {},
   "source": [
    "**IDADE**"
   ]
  },
  {
   "cell_type": "code",
   "execution_count": 103,
   "metadata": {},
   "outputs": [
    {
     "name": "stdout",
     "output_type": "stream",
     "text": [
      "IV:  0.008610560123773604\n"
     ]
    },
    {
     "data": {
      "text/html": [
       "<div>\n",
       "<style scoped>\n",
       "    .dataframe tbody tr th:only-of-type {\n",
       "        vertical-align: middle;\n",
       "    }\n",
       "\n",
       "    .dataframe tbody tr th {\n",
       "        vertical-align: top;\n",
       "    }\n",
       "\n",
       "    .dataframe thead th {\n",
       "        text-align: right;\n",
       "    }\n",
       "</style>\n",
       "<table border=\"1\" class=\"dataframe\">\n",
       "  <thead>\n",
       "    <tr style=\"text-align: right;\">\n",
       "      <th>VR</th>\n",
       "      <th>Maus</th>\n",
       "      <th>Bons</th>\n",
       "      <th>Total</th>\n",
       "      <th>% Bom</th>\n",
       "      <th>% Mau</th>\n",
       "      <th>WoE</th>\n",
       "      <th>IV</th>\n",
       "    </tr>\n",
       "    <tr>\n",
       "      <th>FX_IDADE</th>\n",
       "      <th></th>\n",
       "      <th></th>\n",
       "      <th></th>\n",
       "      <th></th>\n",
       "      <th></th>\n",
       "      <th></th>\n",
       "      <th></th>\n",
       "    </tr>\n",
       "  </thead>\n",
       "  <tbody>\n",
       "    <tr>\n",
       "      <th>(20.999, 34.0]</th>\n",
       "      <td>177</td>\n",
       "      <td>9315</td>\n",
       "      <td>9492</td>\n",
       "      <td>0.259898</td>\n",
       "      <td>0.287338</td>\n",
       "      <td>-0.100369</td>\n",
       "      <td>0.002754</td>\n",
       "    </tr>\n",
       "    <tr>\n",
       "      <th>(34.0, 43.0]</th>\n",
       "      <td>139</td>\n",
       "      <td>9372</td>\n",
       "      <td>9511</td>\n",
       "      <td>0.261488</td>\n",
       "      <td>0.225649</td>\n",
       "      <td>0.147407</td>\n",
       "      <td>0.005283</td>\n",
       "    </tr>\n",
       "    <tr>\n",
       "      <th>(43.0, 53.0]</th>\n",
       "      <td>151</td>\n",
       "      <td>8379</td>\n",
       "      <td>8530</td>\n",
       "      <td>0.233783</td>\n",
       "      <td>0.245130</td>\n",
       "      <td>-0.047397</td>\n",
       "      <td>0.000538</td>\n",
       "    </tr>\n",
       "    <tr>\n",
       "      <th>(53.0, 69.0]</th>\n",
       "      <td>149</td>\n",
       "      <td>8775</td>\n",
       "      <td>8924</td>\n",
       "      <td>0.244831</td>\n",
       "      <td>0.241883</td>\n",
       "      <td>0.012115</td>\n",
       "      <td>0.000036</td>\n",
       "    </tr>\n",
       "  </tbody>\n",
       "</table>\n",
       "</div>"
      ],
      "text/plain": [
       "VR              Maus  Bons  Total     % Bom     % Mau       WoE        IV\n",
       "FX_IDADE                                                                 \n",
       "(20.999, 34.0]   177  9315   9492  0.259898  0.287338 -0.100369  0.002754\n",
       "(34.0, 43.0]     139  9372   9511  0.261488  0.225649  0.147407  0.005283\n",
       "(43.0, 53.0]     151  8379   8530  0.233783  0.245130 -0.047397  0.000538\n",
       "(53.0, 69.0]     149  8775   8924  0.244831  0.241883  0.012115  0.000036"
      ]
     },
     "metadata": {},
     "output_type": "display_data"
    }
   ],
   "source": [
    "df_treino['FX_IDADE'] = pd.qcut(df_treino['IDADE'], q=4)\n",
    "woe_iv(df_treino, 'FX_IDADE', 'VR')"
   ]
  },
  {
   "cell_type": "markdown",
   "metadata": {},
   "source": [
    "<img src=\"Imagens/dislike.png\" width=60ox>"
   ]
  },
  {
   "cell_type": "markdown",
   "metadata": {},
   "source": [
    "**DIAS_EMPREGADO**"
   ]
  },
  {
   "cell_type": "code",
   "execution_count": 104,
   "metadata": {},
   "outputs": [
    {
     "name": "stdout",
     "output_type": "stream",
     "text": [
      "IV:  0.03915948070913698\n"
     ]
    },
    {
     "data": {
      "text/html": [
       "<div>\n",
       "<style scoped>\n",
       "    .dataframe tbody tr th:only-of-type {\n",
       "        vertical-align: middle;\n",
       "    }\n",
       "\n",
       "    .dataframe tbody tr th {\n",
       "        vertical-align: top;\n",
       "    }\n",
       "\n",
       "    .dataframe thead th {\n",
       "        text-align: right;\n",
       "    }\n",
       "</style>\n",
       "<table border=\"1\" class=\"dataframe\">\n",
       "  <thead>\n",
       "    <tr style=\"text-align: right;\">\n",
       "      <th>VR</th>\n",
       "      <th>Maus</th>\n",
       "      <th>Bons</th>\n",
       "      <th>Total</th>\n",
       "      <th>% Bom</th>\n",
       "      <th>% Mau</th>\n",
       "      <th>WoE</th>\n",
       "      <th>IV</th>\n",
       "    </tr>\n",
       "    <tr>\n",
       "      <th>FX_DIAS_EMP</th>\n",
       "      <th></th>\n",
       "      <th></th>\n",
       "      <th></th>\n",
       "      <th></th>\n",
       "      <th></th>\n",
       "      <th></th>\n",
       "      <th></th>\n",
       "    </tr>\n",
       "  </thead>\n",
       "  <tbody>\n",
       "    <tr>\n",
       "      <th>(-0.001, 200.0]</th>\n",
       "      <td>149</td>\n",
       "      <td>7154</td>\n",
       "      <td>7303</td>\n",
       "      <td>0.199604</td>\n",
       "      <td>0.241883</td>\n",
       "      <td>-0.192120</td>\n",
       "      <td>0.008123</td>\n",
       "    </tr>\n",
       "    <tr>\n",
       "      <th>(200.0, 1081.0]</th>\n",
       "      <td>154</td>\n",
       "      <td>7158</td>\n",
       "      <td>7312</td>\n",
       "      <td>0.199715</td>\n",
       "      <td>0.250000</td>\n",
       "      <td>-0.224568</td>\n",
       "      <td>0.011292</td>\n",
       "    </tr>\n",
       "    <tr>\n",
       "      <th>(1081.0, 2080.0]</th>\n",
       "      <td>105</td>\n",
       "      <td>7156</td>\n",
       "      <td>7261</td>\n",
       "      <td>0.199660</td>\n",
       "      <td>0.170455</td>\n",
       "      <td>0.158145</td>\n",
       "      <td>0.004619</td>\n",
       "    </tr>\n",
       "    <tr>\n",
       "      <th>(2080.0, 3596.0]</th>\n",
       "      <td>115</td>\n",
       "      <td>7179</td>\n",
       "      <td>7294</td>\n",
       "      <td>0.200301</td>\n",
       "      <td>0.186688</td>\n",
       "      <td>0.070382</td>\n",
       "      <td>0.000958</td>\n",
       "    </tr>\n",
       "    <tr>\n",
       "      <th>(3596.0, 15713.0]</th>\n",
       "      <td>93</td>\n",
       "      <td>7194</td>\n",
       "      <td>7287</td>\n",
       "      <td>0.200720</td>\n",
       "      <td>0.150974</td>\n",
       "      <td>0.284802</td>\n",
       "      <td>0.014168</td>\n",
       "    </tr>\n",
       "  </tbody>\n",
       "</table>\n",
       "</div>"
      ],
      "text/plain": [
       "VR                 Maus  Bons  Total     % Bom     % Mau       WoE        IV\n",
       "FX_DIAS_EMP                                                                 \n",
       "(-0.001, 200.0]     149  7154   7303  0.199604  0.241883 -0.192120  0.008123\n",
       "(200.0, 1081.0]     154  7158   7312  0.199715  0.250000 -0.224568  0.011292\n",
       "(1081.0, 2080.0]    105  7156   7261  0.199660  0.170455  0.158145  0.004619\n",
       "(2080.0, 3596.0]    115  7179   7294  0.200301  0.186688  0.070382  0.000958\n",
       "(3596.0, 15713.0]    93  7194   7287  0.200720  0.150974  0.284802  0.014168"
      ]
     },
     "metadata": {},
     "output_type": "display_data"
    }
   ],
   "source": [
    "df_treino['FX_DIAS_EMP'] = pd.qcut(df_treino['DIAS_EMPREGADO'], q=5)\n",
    "woe_iv(df_treino, 'FX_DIAS_EMP', 'VR')"
   ]
  },
  {
   "cell_type": "markdown",
   "metadata": {},
   "source": [
    "> **Feature Engineering**"
   ]
  },
  {
   "cell_type": "code",
   "execution_count": 105,
   "metadata": {},
   "outputs": [
    {
     "name": "stdout",
     "output_type": "stream",
     "text": [
      "IV:  0.04966455054574242\n"
     ]
    },
    {
     "data": {
      "text/html": [
       "<div>\n",
       "<style scoped>\n",
       "    .dataframe tbody tr th:only-of-type {\n",
       "        vertical-align: middle;\n",
       "    }\n",
       "\n",
       "    .dataframe tbody tr th {\n",
       "        vertical-align: top;\n",
       "    }\n",
       "\n",
       "    .dataframe thead th {\n",
       "        text-align: right;\n",
       "    }\n",
       "</style>\n",
       "<table border=\"1\" class=\"dataframe\">\n",
       "  <thead>\n",
       "    <tr style=\"text-align: right;\">\n",
       "      <th>VR</th>\n",
       "      <th>Maus</th>\n",
       "      <th>Bons</th>\n",
       "      <th>Total</th>\n",
       "      <th>% Bom</th>\n",
       "      <th>% Mau</th>\n",
       "      <th>WoE</th>\n",
       "      <th>IV</th>\n",
       "    </tr>\n",
       "    <tr>\n",
       "      <th>FX_DIAS_EMP</th>\n",
       "      <th></th>\n",
       "      <th></th>\n",
       "      <th></th>\n",
       "      <th></th>\n",
       "      <th></th>\n",
       "      <th></th>\n",
       "      <th></th>\n",
       "    </tr>\n",
       "  </thead>\n",
       "  <tbody>\n",
       "    <tr>\n",
       "      <th>(0, 1081]</th>\n",
       "      <td>190</td>\n",
       "      <td>8290</td>\n",
       "      <td>8480</td>\n",
       "      <td>0.278011</td>\n",
       "      <td>0.377734</td>\n",
       "      <td>-0.306530</td>\n",
       "      <td>0.030568</td>\n",
       "    </tr>\n",
       "    <tr>\n",
       "      <th>(1081, 3596]</th>\n",
       "      <td>220</td>\n",
       "      <td>14335</td>\n",
       "      <td>14555</td>\n",
       "      <td>0.480734</td>\n",
       "      <td>0.437376</td>\n",
       "      <td>0.094521</td>\n",
       "      <td>0.004098</td>\n",
       "    </tr>\n",
       "    <tr>\n",
       "      <th>(3596, 15713]</th>\n",
       "      <td>93</td>\n",
       "      <td>7194</td>\n",
       "      <td>7287</td>\n",
       "      <td>0.241256</td>\n",
       "      <td>0.184891</td>\n",
       "      <td>0.266092</td>\n",
       "      <td>0.014998</td>\n",
       "    </tr>\n",
       "  </tbody>\n",
       "</table>\n",
       "</div>"
      ],
      "text/plain": [
       "VR             Maus   Bons  Total     % Bom     % Mau       WoE        IV\n",
       "FX_DIAS_EMP                                                              \n",
       "(0, 1081]       190   8290   8480  0.278011  0.377734 -0.306530  0.030568\n",
       "(1081, 3596]    220  14335  14555  0.480734  0.437376  0.094521  0.004098\n",
       "(3596, 15713]    93   7194   7287  0.241256  0.184891  0.266092  0.014998"
      ]
     },
     "metadata": {},
     "output_type": "display_data"
    }
   ],
   "source": [
    "df_treino['FX_DIAS_EMP'] = pd.cut(df_treino['DIAS_EMPREGADO'], bins=[0,1081,3596,15713])\n",
    "woe_iv(df_treino, 'FX_DIAS_EMP', 'VR')"
   ]
  },
  {
   "cell_type": "markdown",
   "metadata": {},
   "source": [
    "<img src=\"Imagens/good.png\" width=60ox>"
   ]
  },
  {
   "cell_type": "markdown",
   "metadata": {},
   "source": [
    "---"
   ]
  },
  {
   "cell_type": "markdown",
   "metadata": {},
   "source": [
    "# Modelagem"
   ]
  },
  {
   "cell_type": "markdown",
   "metadata": {},
   "source": [
    "<img src=\"Imagens/good.png\" width=30px> **Variáveis Selecionas**\n",
    "- POSSUI_IMOVEL\n",
    "- TIPO_RENDA_2\n",
    "- ESCOLARIDADE_2\n",
    "- ESTADO_CIVIL_2\n",
    "- TIPO_MORADIA_2\n",
    "- FX_DIAS_EMPREGADO\n",
    "\n",
    "<img src=\"Imagens/dislike.png\" width=30px> **Variáveis eliminadas**\n",
    "- SEXO - Fraca / Não recomendada\n",
    "- POSSUI_CARRO - Fraca\n",
    "- RENDA_ANUAL - Fraca\n",
    "- DIAS_IDADE - Fraca\n",
    "- QTD_FILHOS - Alta correlação com TAMANHO_FAMILIA\n",
    "- TAMANHO_FAMILIA - Fraca"
   ]
  },
  {
   "cell_type": "code",
   "execution_count": 106,
   "metadata": {},
   "outputs": [],
   "source": [
    "# Variveis selecionas\n",
    "select = ['POSSUI_IMOVEL','FL_SEM_FAMILIA','TIPO_RENDA_2','ESCOLARIDADE_2','ESTADO_CIVIL_2','TIPO_MORADIA_2','FX_DIAS_EMP','VR']"
   ]
  },
  {
   "cell_type": "code",
   "execution_count": 107,
   "metadata": {},
   "outputs": [],
   "source": [
    "df_select = df_treino[select].copy()"
   ]
  },
  {
   "cell_type": "code",
   "execution_count": 108,
   "metadata": {},
   "outputs": [
    {
     "data": {
      "text/html": [
       "<div>\n",
       "<style scoped>\n",
       "    .dataframe tbody tr th:only-of-type {\n",
       "        vertical-align: middle;\n",
       "    }\n",
       "\n",
       "    .dataframe tbody tr th {\n",
       "        vertical-align: top;\n",
       "    }\n",
       "\n",
       "    .dataframe thead th {\n",
       "        text-align: right;\n",
       "    }\n",
       "</style>\n",
       "<table border=\"1\" class=\"dataframe\">\n",
       "  <thead>\n",
       "    <tr style=\"text-align: right;\">\n",
       "      <th></th>\n",
       "      <th>POSSUI_IMOVEL</th>\n",
       "      <th>FL_SEM_FAMILIA</th>\n",
       "      <th>TIPO_RENDA_2</th>\n",
       "      <th>ESCOLARIDADE_2</th>\n",
       "      <th>ESTADO_CIVIL_2</th>\n",
       "      <th>TIPO_MORADIA_2</th>\n",
       "      <th>FX_DIAS_EMP</th>\n",
       "      <th>VR</th>\n",
       "    </tr>\n",
       "  </thead>\n",
       "  <tbody>\n",
       "    <tr>\n",
       "      <th>0</th>\n",
       "      <td>Sim</td>\n",
       "      <td>0</td>\n",
       "      <td>Estudante/Trabalho/Representante Com.</td>\n",
       "      <td>Superior completo</td>\n",
       "      <td>Casado/Separado</td>\n",
       "      <td>Com os pais/Apartamento alugado</td>\n",
       "      <td>(3596, 15713]</td>\n",
       "      <td>1</td>\n",
       "    </tr>\n",
       "    <tr>\n",
       "      <th>1</th>\n",
       "      <td>Sim</td>\n",
       "      <td>0</td>\n",
       "      <td>Estudante/Trabalho/Representante Com.</td>\n",
       "      <td>Superior completo</td>\n",
       "      <td>Casado/Separado</td>\n",
       "      <td>Com os pais/Apartamento alugado</td>\n",
       "      <td>(3596, 15713]</td>\n",
       "      <td>1</td>\n",
       "    </tr>\n",
       "    <tr>\n",
       "      <th>2</th>\n",
       "      <td>Sim</td>\n",
       "      <td>0</td>\n",
       "      <td>Estudante/Trabalho/Representante Com.</td>\n",
       "      <td>Superior completo</td>\n",
       "      <td>Casado/Separado</td>\n",
       "      <td>Apartamento Co-op/Casa/Apartamento</td>\n",
       "      <td>(1081, 3596]</td>\n",
       "      <td>1</td>\n",
       "    </tr>\n",
       "    <tr>\n",
       "      <th>3</th>\n",
       "      <td>Sim</td>\n",
       "      <td>1</td>\n",
       "      <td>Estudante/Trabalho/Representante Com.</td>\n",
       "      <td>Superior completo</td>\n",
       "      <td>Solteiro</td>\n",
       "      <td>Apartamento Co-op/Casa/Apartamento</td>\n",
       "      <td>(1081, 3596]</td>\n",
       "      <td>1</td>\n",
       "    </tr>\n",
       "    <tr>\n",
       "      <th>4</th>\n",
       "      <td>Sim</td>\n",
       "      <td>1</td>\n",
       "      <td>Estudante/Trabalho/Representante Com.</td>\n",
       "      <td>Superior completo</td>\n",
       "      <td>Solteiro</td>\n",
       "      <td>Apartamento Co-op/Casa/Apartamento</td>\n",
       "      <td>(1081, 3596]</td>\n",
       "      <td>1</td>\n",
       "    </tr>\n",
       "  </tbody>\n",
       "</table>\n",
       "</div>"
      ],
      "text/plain": [
       "  POSSUI_IMOVEL  FL_SEM_FAMILIA                           TIPO_RENDA_2  \\\n",
       "0           Sim               0  Estudante/Trabalho/Representante Com.   \n",
       "1           Sim               0  Estudante/Trabalho/Representante Com.   \n",
       "2           Sim               0  Estudante/Trabalho/Representante Com.   \n",
       "3           Sim               1  Estudante/Trabalho/Representante Com.   \n",
       "4           Sim               1  Estudante/Trabalho/Representante Com.   \n",
       "\n",
       "      ESCOLARIDADE_2   ESTADO_CIVIL_2                      TIPO_MORADIA_2  \\\n",
       "0  Superior completo  Casado/Separado     Com os pais/Apartamento alugado   \n",
       "1  Superior completo  Casado/Separado     Com os pais/Apartamento alugado   \n",
       "2  Superior completo  Casado/Separado  Apartamento Co-op/Casa/Apartamento   \n",
       "3  Superior completo         Solteiro  Apartamento Co-op/Casa/Apartamento   \n",
       "4  Superior completo         Solteiro  Apartamento Co-op/Casa/Apartamento   \n",
       "\n",
       "     FX_DIAS_EMP  VR  \n",
       "0  (3596, 15713]   1  \n",
       "1  (3596, 15713]   1  \n",
       "2   (1081, 3596]   1  \n",
       "3   (1081, 3596]   1  \n",
       "4   (1081, 3596]   1  "
      ]
     },
     "execution_count": 108,
     "metadata": {},
     "output_type": "execute_result"
    }
   ],
   "source": [
    "df_select.head()"
   ]
  },
  {
   "cell_type": "markdown",
   "metadata": {},
   "source": [
    "## Preparação da base"
   ]
  },
  {
   "cell_type": "markdown",
   "metadata": {},
   "source": [
    "**Encoding**"
   ]
  },
  {
   "cell_type": "code",
   "execution_count": 109,
   "metadata": {},
   "outputs": [],
   "source": [
    "df_select.POSSUI_IMOVEL = df_select.POSSUI_IMOVEL.replace({'Não':0, 'Sim':1})"
   ]
  },
  {
   "cell_type": "markdown",
   "metadata": {},
   "source": [
    "**Dummies**"
   ]
  },
  {
   "cell_type": "code",
   "execution_count": 110,
   "metadata": {},
   "outputs": [
    {
     "data": {
      "text/html": [
       "<div>\n",
       "<style scoped>\n",
       "    .dataframe tbody tr th:only-of-type {\n",
       "        vertical-align: middle;\n",
       "    }\n",
       "\n",
       "    .dataframe tbody tr th {\n",
       "        vertical-align: top;\n",
       "    }\n",
       "\n",
       "    .dataframe thead th {\n",
       "        text-align: right;\n",
       "    }\n",
       "</style>\n",
       "<table border=\"1\" class=\"dataframe\">\n",
       "  <thead>\n",
       "    <tr style=\"text-align: right;\">\n",
       "      <th></th>\n",
       "      <th>POSSUI_IMOVEL</th>\n",
       "      <th>FL_SEM_FAMILIA</th>\n",
       "      <th>VR</th>\n",
       "      <th>TIPO_RENDA_2_Pensão/Aposentadoria</th>\n",
       "      <th>TIPO_RENDA_2_Servidor público</th>\n",
       "      <th>ESCOLARIDADE_2_Superior incompleto</th>\n",
       "      <th>ESTADO_CIVIL_2_Solteiro</th>\n",
       "      <th>ESTADO_CIVIL_2_Viúvo</th>\n",
       "      <th>TIPO_MORADIA_2_Com os pais/Apartamento alugado</th>\n",
       "      <th>TIPO_MORADIA_2_Estúdio/Habitação popular</th>\n",
       "      <th>FX_DIAS_EMP_(1081, 3596]</th>\n",
       "      <th>FX_DIAS_EMP_(3596, 15713]</th>\n",
       "    </tr>\n",
       "  </thead>\n",
       "  <tbody>\n",
       "    <tr>\n",
       "      <th>0</th>\n",
       "      <td>1</td>\n",
       "      <td>0</td>\n",
       "      <td>1</td>\n",
       "      <td>0</td>\n",
       "      <td>0</td>\n",
       "      <td>0</td>\n",
       "      <td>0</td>\n",
       "      <td>0</td>\n",
       "      <td>1</td>\n",
       "      <td>0</td>\n",
       "      <td>0</td>\n",
       "      <td>1</td>\n",
       "    </tr>\n",
       "    <tr>\n",
       "      <th>1</th>\n",
       "      <td>1</td>\n",
       "      <td>0</td>\n",
       "      <td>1</td>\n",
       "      <td>0</td>\n",
       "      <td>0</td>\n",
       "      <td>0</td>\n",
       "      <td>0</td>\n",
       "      <td>0</td>\n",
       "      <td>1</td>\n",
       "      <td>0</td>\n",
       "      <td>0</td>\n",
       "      <td>1</td>\n",
       "    </tr>\n",
       "    <tr>\n",
       "      <th>2</th>\n",
       "      <td>1</td>\n",
       "      <td>0</td>\n",
       "      <td>1</td>\n",
       "      <td>0</td>\n",
       "      <td>0</td>\n",
       "      <td>0</td>\n",
       "      <td>0</td>\n",
       "      <td>0</td>\n",
       "      <td>0</td>\n",
       "      <td>0</td>\n",
       "      <td>1</td>\n",
       "      <td>0</td>\n",
       "    </tr>\n",
       "    <tr>\n",
       "      <th>3</th>\n",
       "      <td>1</td>\n",
       "      <td>1</td>\n",
       "      <td>1</td>\n",
       "      <td>0</td>\n",
       "      <td>0</td>\n",
       "      <td>0</td>\n",
       "      <td>1</td>\n",
       "      <td>0</td>\n",
       "      <td>0</td>\n",
       "      <td>0</td>\n",
       "      <td>1</td>\n",
       "      <td>0</td>\n",
       "    </tr>\n",
       "    <tr>\n",
       "      <th>4</th>\n",
       "      <td>1</td>\n",
       "      <td>1</td>\n",
       "      <td>1</td>\n",
       "      <td>0</td>\n",
       "      <td>0</td>\n",
       "      <td>0</td>\n",
       "      <td>1</td>\n",
       "      <td>0</td>\n",
       "      <td>0</td>\n",
       "      <td>0</td>\n",
       "      <td>1</td>\n",
       "      <td>0</td>\n",
       "    </tr>\n",
       "  </tbody>\n",
       "</table>\n",
       "</div>"
      ],
      "text/plain": [
       "   POSSUI_IMOVEL  FL_SEM_FAMILIA  VR  TIPO_RENDA_2_Pensão/Aposentadoria  \\\n",
       "0              1               0   1                                  0   \n",
       "1              1               0   1                                  0   \n",
       "2              1               0   1                                  0   \n",
       "3              1               1   1                                  0   \n",
       "4              1               1   1                                  0   \n",
       "\n",
       "   TIPO_RENDA_2_Servidor público  ESCOLARIDADE_2_Superior incompleto  \\\n",
       "0                              0                                   0   \n",
       "1                              0                                   0   \n",
       "2                              0                                   0   \n",
       "3                              0                                   0   \n",
       "4                              0                                   0   \n",
       "\n",
       "   ESTADO_CIVIL_2_Solteiro  ESTADO_CIVIL_2_Viúvo  \\\n",
       "0                        0                     0   \n",
       "1                        0                     0   \n",
       "2                        0                     0   \n",
       "3                        1                     0   \n",
       "4                        1                     0   \n",
       "\n",
       "   TIPO_MORADIA_2_Com os pais/Apartamento alugado  \\\n",
       "0                                               1   \n",
       "1                                               1   \n",
       "2                                               0   \n",
       "3                                               0   \n",
       "4                                               0   \n",
       "\n",
       "   TIPO_MORADIA_2_Estúdio/Habitação popular  FX_DIAS_EMP_(1081, 3596]  \\\n",
       "0                                         0                         0   \n",
       "1                                         0                         0   \n",
       "2                                         0                         1   \n",
       "3                                         0                         1   \n",
       "4                                         0                         1   \n",
       "\n",
       "   FX_DIAS_EMP_(3596, 15713]  \n",
       "0                          1  \n",
       "1                          1  \n",
       "2                          0  \n",
       "3                          0  \n",
       "4                          0  "
      ]
     },
     "execution_count": 110,
     "metadata": {},
     "output_type": "execute_result"
    }
   ],
   "source": [
    "df_select = pd.get_dummies(df_select, columns=['TIPO_RENDA_2','ESCOLARIDADE_2','ESTADO_CIVIL_2','TIPO_MORADIA_2','FX_DIAS_EMP'], drop_first=True)\n",
    "df_select.head()"
   ]
  },
  {
   "cell_type": "markdown",
   "metadata": {},
   "source": [
    "### Seperação de Treino e Validação(teste)"
   ]
  },
  {
   "cell_type": "code",
   "execution_count": 111,
   "metadata": {},
   "outputs": [],
   "source": [
    "X = df_select.drop('VR', axis=1)\n",
    "y = df_select['VR']"
   ]
  },
  {
   "cell_type": "markdown",
   "metadata": {},
   "source": [
    "**Método:** Synthetic Minority Over-sampling"
   ]
  },
  {
   "cell_type": "code",
   "execution_count": 112,
   "metadata": {},
   "outputs": [],
   "source": [
    "y = y.astype('int')\n",
    "X_balanceado, y_balanceado = SMOTE(sampling_strategy='minority').fit_resample(X,y)\n",
    "X_balanceado = pd.DataFrame(X_balanceado, columns = X.columns)"
   ]
  },
  {
   "cell_type": "code",
   "execution_count": 113,
   "metadata": {},
   "outputs": [
    {
     "data": {
      "text/plain": [
       "<matplotlib.axes._subplots.AxesSubplot at 0x1d646792608>"
      ]
     },
     "execution_count": 113,
     "metadata": {},
     "output_type": "execute_result"
    },
    {
     "data": {
      "image/png": "[encoded data removed]",
      "text/plain": [
       "<Figure size 432x288 with 1 Axes>"
      ]
     },
     "metadata": {},
     "output_type": "display_data"
    }
   ],
   "source": [
    "plt.suptitle('% de BONS e MAUS na Base Balanceada')\n",
    "y_balanceado.value_counts(normalize=True).plot.bar(color=['tab:green','tab:red'])"
   ]
  },
  {
   "cell_type": "markdown",
   "metadata": {},
   "source": [
    "**Splits**"
   ]
  },
  {
   "cell_type": "code",
   "execution_count": 114,
   "metadata": {},
   "outputs": [],
   "source": [
    "X_train, X_test, y_train, y_test = train_test_split(X_balanceado, y_balanceado, test_size=0.3, random_state=42)"
   ]
  },
  {
   "cell_type": "markdown",
   "metadata": {},
   "source": [
    "---"
   ]
  },
  {
   "cell_type": "markdown",
   "metadata": {},
   "source": [
    "## Regressão Logística"
   ]
  },
  {
   "cell_type": "code",
   "execution_count": 115,
   "metadata": {},
   "outputs": [],
   "source": [
    "reglog = LogisticRegression(random_state=42, solver='lbfgs')"
   ]
  },
  {
   "cell_type": "code",
   "execution_count": 116,
   "metadata": {},
   "outputs": [
    {
     "data": {
      "text/plain": [
       "LogisticRegression(random_state=42)"
      ]
     },
     "execution_count": 116,
     "metadata": {},
     "output_type": "execute_result"
    }
   ],
   "source": [
    "reglog.fit(X_train, y_train)"
   ]
  },
  {
   "cell_type": "code",
   "execution_count": 117,
   "metadata": {},
   "outputs": [],
   "source": [
    "previsoes_treino = reglog.predict(X_train)\n",
    "previsoes_validacao = reglog.predict(X_test)\n",
    "reglog_roc = pd.DataFrame({'VR':y_test,'PROB':reglog.predict_proba(X_test)[:,1]})"
   ]
  },
  {
   "cell_type": "code",
   "execution_count": 118,
   "metadata": {},
   "outputs": [
    {
     "name": "stdout",
     "output_type": "stream",
     "text": [
      "Acurácia do treino:  0.5588018414811567\n",
      "Acurácia de validação:  0.5600093001627529\n"
     ]
    }
   ],
   "source": [
    "print('Acurácia do treino: ',accuracy_score(y_train, previsoes_treino))\n",
    "print('Acurácia de validação: ',accuracy_score(y_test, previsoes_validacao))"
   ]
  },
  {
   "cell_type": "code",
   "execution_count": 119,
   "metadata": {},
   "outputs": [
    {
     "name": "stdout",
     "output_type": "stream",
     "text": [
      "Resultados - Split de Validação\n",
      "              precision    recall  f1-score   support\n",
      "\n",
      "        MAUS       0.55      0.63      0.59     10702\n",
      "        BONS       0.57      0.49      0.53     10803\n",
      "\n",
      "    accuracy                           0.56     21505\n",
      "   macro avg       0.56      0.56      0.56     21505\n",
      "weighted avg       0.56      0.56      0.56     21505\n",
      "\n"
     ]
    }
   ],
   "source": [
    "print('Resultados - Split de Validação')\n",
    "print(classification_report(y_test, previsoes_validacao, target_names=['MAUS','BONS']))"
   ]
  },
  {
   "cell_type": "code",
   "execution_count": 120,
   "metadata": {},
   "outputs": [
    {
     "name": "stdout",
     "output_type": "stream",
     "text": [
      "[[0.62735937 0.37264063]\n",
      " [0.5067111  0.4932889 ]]\n"
     ]
    },
    {
     "data": {
      "image/png": "[encoded data removed]",
      "text/plain": [
       "<Figure size 432x288 with 2 Axes>"
      ]
     },
     "metadata": {},
     "output_type": "display_data"
    }
   ],
   "source": [
    "plot_confusion_matrix(confusion_matrix(y_test, previsoes_validacao),\n",
    "                      classes=['MAU','BOM'] ,normalize = True, \n",
    "                      title='Regressão Logística')"
   ]
  },
  {
   "cell_type": "markdown",
   "metadata": {},
   "source": [
    "## Árvore de Decisão"
   ]
  },
  {
   "cell_type": "code",
   "execution_count": 121,
   "metadata": {},
   "outputs": [],
   "source": [
    "vars = ['SEXO', 'POSSUI_CARRO', 'POSSUI_IMOVEL', 'QTD_FILHOS', 'RENDA_ANUAL',\n",
    "       'DIAS_EMPREGADO', 'TAMANHO_FAMILIA', 'IDADE', 'FL_SEM_FAMILIA', 'TIPO_RENDA_2', 'ESCOLARIDADE_2', 'ESTADO_CIVIL_2',\n",
    "       'TIPO_MORADIA_2','VR']\n",
    "df_tree = df_treino[vars].copy()"
   ]
  },
  {
   "cell_type": "code",
   "execution_count": 122,
   "metadata": {},
   "outputs": [],
   "source": [
    "# Encoding\n",
    "df_tree.POSSUI_CARRO = df_tree.POSSUI_CARRO.map({'Não':0, 'Sim':1})\n",
    "df_tree.POSSUI_IMOVEL = df_tree.POSSUI_IMOVEL.map({'Não':0, 'Sim':1})\n",
    "df_tree.SEXO = df_tree.SEXO.map({'M':0, 'F':1})"
   ]
  },
  {
   "cell_type": "code",
   "execution_count": 123,
   "metadata": {},
   "outputs": [],
   "source": [
    "# Dummies\n",
    "df_tree = pd.get_dummies(df_tree, columns=['TIPO_RENDA_2','ESCOLARIDADE_2','ESTADO_CIVIL_2','TIPO_MORADIA_2'], drop_first=True)"
   ]
  },
  {
   "cell_type": "code",
   "execution_count": 124,
   "metadata": {},
   "outputs": [
    {
     "data": {
      "text/html": [
       "<div>\n",
       "<style scoped>\n",
       "    .dataframe tbody tr th:only-of-type {\n",
       "        vertical-align: middle;\n",
       "    }\n",
       "\n",
       "    .dataframe tbody tr th {\n",
       "        vertical-align: top;\n",
       "    }\n",
       "\n",
       "    .dataframe thead th {\n",
       "        text-align: right;\n",
       "    }\n",
       "</style>\n",
       "<table border=\"1\" class=\"dataframe\">\n",
       "  <thead>\n",
       "    <tr style=\"text-align: right;\">\n",
       "      <th></th>\n",
       "      <th>SEXO</th>\n",
       "      <th>POSSUI_CARRO</th>\n",
       "      <th>POSSUI_IMOVEL</th>\n",
       "      <th>QTD_FILHOS</th>\n",
       "      <th>RENDA_ANUAL</th>\n",
       "      <th>DIAS_EMPREGADO</th>\n",
       "      <th>TAMANHO_FAMILIA</th>\n",
       "      <th>IDADE</th>\n",
       "      <th>FL_SEM_FAMILIA</th>\n",
       "      <th>VR</th>\n",
       "      <th>TIPO_RENDA_2_Pensão/Aposentadoria</th>\n",
       "      <th>TIPO_RENDA_2_Servidor público</th>\n",
       "      <th>ESCOLARIDADE_2_Superior incompleto</th>\n",
       "      <th>ESTADO_CIVIL_2_Solteiro</th>\n",
       "      <th>ESTADO_CIVIL_2_Viúvo</th>\n",
       "      <th>TIPO_MORADIA_2_Com os pais/Apartamento alugado</th>\n",
       "      <th>TIPO_MORADIA_2_Estúdio/Habitação popular</th>\n",
       "    </tr>\n",
       "  </thead>\n",
       "  <tbody>\n",
       "    <tr>\n",
       "      <th>0</th>\n",
       "      <td>0</td>\n",
       "      <td>1</td>\n",
       "      <td>1</td>\n",
       "      <td>0</td>\n",
       "      <td>427500.0</td>\n",
       "      <td>4542</td>\n",
       "      <td>2.0</td>\n",
       "      <td>33.0</td>\n",
       "      <td>0</td>\n",
       "      <td>1</td>\n",
       "      <td>0</td>\n",
       "      <td>0</td>\n",
       "      <td>0</td>\n",
       "      <td>0</td>\n",
       "      <td>0</td>\n",
       "      <td>1</td>\n",
       "      <td>0</td>\n",
       "    </tr>\n",
       "    <tr>\n",
       "      <th>1</th>\n",
       "      <td>0</td>\n",
       "      <td>1</td>\n",
       "      <td>1</td>\n",
       "      <td>0</td>\n",
       "      <td>427500.0</td>\n",
       "      <td>4542</td>\n",
       "      <td>2.0</td>\n",
       "      <td>33.0</td>\n",
       "      <td>0</td>\n",
       "      <td>1</td>\n",
       "      <td>0</td>\n",
       "      <td>0</td>\n",
       "      <td>0</td>\n",
       "      <td>0</td>\n",
       "      <td>0</td>\n",
       "      <td>1</td>\n",
       "      <td>0</td>\n",
       "    </tr>\n",
       "    <tr>\n",
       "      <th>2</th>\n",
       "      <td>0</td>\n",
       "      <td>1</td>\n",
       "      <td>1</td>\n",
       "      <td>0</td>\n",
       "      <td>112500.0</td>\n",
       "      <td>1134</td>\n",
       "      <td>2.0</td>\n",
       "      <td>59.0</td>\n",
       "      <td>0</td>\n",
       "      <td>1</td>\n",
       "      <td>0</td>\n",
       "      <td>0</td>\n",
       "      <td>0</td>\n",
       "      <td>0</td>\n",
       "      <td>0</td>\n",
       "      <td>0</td>\n",
       "      <td>0</td>\n",
       "    </tr>\n",
       "  </tbody>\n",
       "</table>\n",
       "</div>"
      ],
      "text/plain": [
       "   SEXO  POSSUI_CARRO  POSSUI_IMOVEL  QTD_FILHOS  RENDA_ANUAL  DIAS_EMPREGADO  \\\n",
       "0     0             1              1           0     427500.0            4542   \n",
       "1     0             1              1           0     427500.0            4542   \n",
       "2     0             1              1           0     112500.0            1134   \n",
       "\n",
       "   TAMANHO_FAMILIA  IDADE  FL_SEM_FAMILIA  VR  \\\n",
       "0              2.0   33.0               0   1   \n",
       "1              2.0   33.0               0   1   \n",
       "2              2.0   59.0               0   1   \n",
       "\n",
       "   TIPO_RENDA_2_Pensão/Aposentadoria  TIPO_RENDA_2_Servidor público  \\\n",
       "0                                  0                              0   \n",
       "1                                  0                              0   \n",
       "2                                  0                              0   \n",
       "\n",
       "   ESCOLARIDADE_2_Superior incompleto  ESTADO_CIVIL_2_Solteiro  \\\n",
       "0                                   0                        0   \n",
       "1                                   0                        0   \n",
       "2                                   0                        0   \n",
       "\n",
       "   ESTADO_CIVIL_2_Viúvo  TIPO_MORADIA_2_Com os pais/Apartamento alugado  \\\n",
       "0                     0                                               1   \n",
       "1                     0                                               1   \n",
       "2                     0                                               0   \n",
       "\n",
       "   TIPO_MORADIA_2_Estúdio/Habitação popular  \n",
       "0                                         0  \n",
       "1                                         0  \n",
       "2                                         0  "
      ]
     },
     "execution_count": 124,
     "metadata": {},
     "output_type": "execute_result"
    }
   ],
   "source": [
    "df_tree.head(3)"
   ]
  },
  {
   "cell_type": "code",
   "execution_count": 125,
   "metadata": {},
   "outputs": [],
   "source": [
    "X = df_tree.drop('VR',axis=1)\n",
    "y = df_tree['VR']\n",
    "y = y.astype('int')\n",
    "X_balanceado, y_balanceado = SMOTE(sampling_strategy='minority').fit_resample(X,y)\n",
    "X_balanceado = pd.DataFrame(X_balanceado, columns = X.columns)\n",
    "X_train, X_test, y_train, y_test = train_test_split(X_balanceado, y_balanceado, test_size=0.3, random_state=42)"
   ]
  },
  {
   "cell_type": "code",
   "execution_count": 126,
   "metadata": {},
   "outputs": [
    {
     "data": {
      "text/plain": [
       "DecisionTreeClassifier(max_depth=9, min_samples_split=0.1, random_state=42)"
      ]
     },
     "execution_count": 126,
     "metadata": {},
     "output_type": "execute_result"
    }
   ],
   "source": [
    "clf_tree = tree.DecisionTreeClassifier(max_depth=9, min_samples_split=0.1, random_state=42)\n",
    "clf_tree.fit(X_train, y_train)"
   ]
  },
  {
   "cell_type": "code",
   "execution_count": 127,
   "metadata": {},
   "outputs": [
    {
     "name": "stdout",
     "output_type": "stream",
     "text": [
      "Acurácia do treino:  0.7071566654044682\n",
      "Acurácia do treino:  0.7083468960706812\n"
     ]
    }
   ],
   "source": [
    "previsoes_treino = clf_tree.predict(X_train)\n",
    "previsoes_validacao = clf_tree.predict(X_test)\n",
    "tree_roc = pd.DataFrame({'VR':y_test,'PROB':clf_tree.predict_proba(X_test)[:,1]})\n",
    "print('Acurácia do treino: ', clf_tree.score(X_train,y_train))\n",
    "print('Acurácia do treino: ', clf_tree.score(X_test,y_test))"
   ]
  },
  {
   "cell_type": "code",
   "execution_count": 128,
   "metadata": {},
   "outputs": [
    {
     "name": "stdout",
     "output_type": "stream",
     "text": [
      "              precision    recall  f1-score   support\n",
      "\n",
      "        MAUS       0.71      0.71      0.71     10702\n",
      "        BONS       0.71      0.71      0.71     10803\n",
      "\n",
      "    accuracy                           0.71     21505\n",
      "   macro avg       0.71      0.71      0.71     21505\n",
      "weighted avg       0.71      0.71      0.71     21505\n",
      "\n"
     ]
    }
   ],
   "source": [
    "print(classification_report(y_test, previsoes_validacao, target_names=['MAUS','BONS']))"
   ]
  },
  {
   "cell_type": "code",
   "execution_count": 129,
   "metadata": {},
   "outputs": [
    {
     "name": "stdout",
     "output_type": "stream",
     "text": [
      "[[0.70622314 0.29377686]\n",
      " [0.2895492  0.7104508 ]]\n"
     ]
    },
    {
     "data": {
      "image/png": "[encoded data removed]",
      "text/plain": [
       "<Figure size 432x288 with 2 Axes>"
      ]
     },
     "metadata": {},
     "output_type": "display_data"
    }
   ],
   "source": [
    "plot_confusion_matrix(confusion_matrix(y_test, previsoes_validacao),\n",
    "                      classes=['MAU','BOM'] ,normalize = True, \n",
    "                      title='Árvore de Decisão')"
   ]
  },
  {
   "cell_type": "markdown",
   "metadata": {},
   "source": [
    "## Random Forest"
   ]
  },
  {
   "cell_type": "code",
   "execution_count": 130,
   "metadata": {},
   "outputs": [
    {
     "data": {
      "text/plain": [
       "RandomForestClassifier(max_depth=12, min_samples_leaf=16, n_estimators=250)"
      ]
     },
     "execution_count": 130,
     "metadata": {},
     "output_type": "execute_result"
    }
   ],
   "source": [
    "clf_rforest = RandomForestClassifier(n_estimators=250,max_depth=12,min_samples_leaf=16)\n",
    "clf_rforest.fit(X_train, y_train)"
   ]
  },
  {
   "cell_type": "code",
   "execution_count": 131,
   "metadata": {},
   "outputs": [
    {
     "name": "stdout",
     "output_type": "stream",
     "text": [
      "Acurácia do treino:  0.9111943719233911\n",
      "Acurácia de validação:  0.907137874912811\n"
     ]
    }
   ],
   "source": [
    "previsoes_treino = clf_rforest.predict(X_train)\n",
    "previsoes_validacao = clf_rforest.predict(X_test)\n",
    "rforest_roc = pd.DataFrame({'VR':y_test,'PROB':clf_rforest.predict_proba(X_test)[:,1]})\n",
    "print('Acurácia do treino: ', clf_rforest.score(X_train,y_train))\n",
    "print('Acurácia de validação: ', clf_rforest.score(X_test,y_test))"
   ]
  },
  {
   "cell_type": "code",
   "execution_count": 132,
   "metadata": {},
   "outputs": [
    {
     "name": "stdout",
     "output_type": "stream",
     "text": [
      "              precision    recall  f1-score   support\n",
      "\n",
      "        MAUS       0.92      0.89      0.91     10702\n",
      "        BONS       0.90      0.92      0.91     10803\n",
      "\n",
      "    accuracy                           0.91     21505\n",
      "   macro avg       0.91      0.91      0.91     21505\n",
      "weighted avg       0.91      0.91      0.91     21505\n",
      "\n"
     ]
    }
   ],
   "source": [
    "print(classification_report(y_test, previsoes_validacao, target_names=['MAUS','BONS']))"
   ]
  },
  {
   "cell_type": "code",
   "execution_count": 133,
   "metadata": {},
   "outputs": [
    {
     "name": "stdout",
     "output_type": "stream",
     "text": [
      "[[0.89366474 0.10633526]\n",
      " [0.07951495 0.92048505]]\n"
     ]
    },
    {
     "data": {
      "image/png": "[encoded data removed]",
      "text/plain": [
       "<Figure size 432x288 with 2 Axes>"
      ]
     },
     "metadata": {},
     "output_type": "display_data"
    }
   ],
   "source": [
    "plot_confusion_matrix(confusion_matrix(y_test, previsoes_validacao),\n",
    "                      classes=['MAU','BOM'] ,normalize = True, \n",
    "                      title='Random Forest')"
   ]
  },
  {
   "cell_type": "markdown",
   "metadata": {},
   "source": [
    "## Comparação dos Modelos - Curva ROC"
   ]
  },
  {
   "cell_type": "code",
   "execution_count": 134,
   "metadata": {},
   "outputs": [],
   "source": [
    "fpr, tpr, _ = roc_curve(reglog_roc.VR, reglog_roc['PROB'])\n",
    "fpr2, tpr2, _ = roc_curve(tree_roc.VR, tree_roc['PROB'])\n",
    "fpr3, tpr3, _ = roc_curve(rforest_roc.VR, rforest_roc['PROB'])\n",
    "auc_reglog = roc_auc_score(y_test, reglog_roc['PROB'])\n",
    "auc_tree = roc_auc_score(y_test, tree_roc['PROB'])\n",
    "auc_rforest = roc_auc_score(y_test, rforest_roc['PROB'])"
   ]
  },
  {
   "cell_type": "code",
   "execution_count": 135,
   "metadata": {},
   "outputs": [
    {
     "data": {
      "text/plain": [
       "<matplotlib.legend.Legend at 0x1d6428f6d88>"
      ]
     },
     "execution_count": 135,
     "metadata": {},
     "output_type": "execute_result"
    },
    {
     "data": {
      "image/png": "[encoded data removed]",
      "text/plain": [
       "<Figure size 432x432 with 1 Axes>"
      ]
     },
     "metadata": {},
     "output_type": "display_data"
    }
   ],
   "source": [
    "plt.figure(figsize=(6,6))\n",
    "plt.suptitle('Curva ROC', size=16)\n",
    "plt.plot(fpr, tpr, label=f'Regressão Logística - AUC {auc_reglog:.4}', color='orange')\n",
    "plt.plot(fpr2, tpr2, label=f'Árvore de Decisão - AUC {auc_tree:.4}', color='blue')\n",
    "plt.plot(fpr3, tpr3, label=f'Random Forest - AUC {auc_rforest:.4}', color='green')\n",
    "plt.plot([0,1], [0,1], '--', color='grey')\n",
    "plt.xlabel('% Falsos positivo')\n",
    "plt.ylabel('% Verdadeiro positivo')\n",
    "plt.legend(fontsize=13)"
   ]
  },
  {
   "cell_type": "markdown",
   "metadata": {},
   "source": [
    "# Como poderemos usar o modelo final?"
   ]
  },
  {
   "cell_type": "markdown",
   "metadata": {},
   "source": [
    "- Através da definição de um Scorecard.\n",
    "- Execução do modelo em *batch* ou *serviço*.\n",
    "- Utilizando os parâmetros do modelo para gerar procedures em SQL ou automações.\n",
    "- Percepções para o negócio, criação de políticas e estratégias."
   ]
  },
  {
   "cell_type": "markdown",
   "metadata": {},
   "source": [
    "# Como podemos acompanhar a performance do modelo ao longo do tempo?"
   ]
  },
  {
   "cell_type": "markdown",
   "metadata": {},
   "source": [
    "A depender do modelo utilizado:\n",
    "- Métricas de Estabilidade por Safra\n",
    "    - Population stability index (PSI)\n",
    "    - Peso da Evidência (WoE)\n",
    "- Métricas de Performance por Safra.\n",
    "    - Kolmogorov-smirnov (KS2)\n",
    "    - Information value (IV)\n",
    "- RAG Rating"
   ]
  }
 ],
 "metadata": {
  "interpreter": {
   "hash": "8138d599ee6cce8defc1ec5fb880fff09f677d008f019f76e46e86511b90d42a"
  },
  "kernelspec": {
   "display_name": "Python 3",
   "language": "python",
   "name": "python3"
  },
  "language_info": {
   "codemirror_mode": {
    "name": "ipython",
    "version": 3
   },
   "file_extension": ".py",
   "mimetype": "text/x-python",
   "name": "python",
   "nbconvert_exporter": "python",
   "pygments_lexer": "ipython3",
   "version": "3.7.6"
  }
 },
 "nbformat": 4,
 "nbformat_minor": 4
}
